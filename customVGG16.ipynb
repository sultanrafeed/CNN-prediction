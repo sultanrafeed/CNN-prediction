{
 "cells": [
  {
   "cell_type": "code",
   "execution_count": 1,
   "id": "bb653f59-bb5a-4c5c-bde8-60cec1a48ba6",
   "metadata": {},
   "outputs": [
    {
     "data": {
      "text/plain": [
       "device(type='cuda')"
      ]
     },
     "execution_count": 1,
     "metadata": {},
     "output_type": "execute_result"
    }
   ],
   "source": [
    "import torch\n",
    "\n",
    "# Device configuration\n",
    "device = torch.device('cuda' if torch.cuda.is_available() else 'cpu')\n",
    "device"
   ]
  },
  {
   "cell_type": "markdown",
   "id": "c6197870-660a-4577-a7f8-a6e213a389b3",
   "metadata": {},
   "source": [
    "## Custom CNN Network using VGG Blocks"
   ]
  },
  {
   "cell_type": "code",
   "execution_count": 2,
   "id": "274ac413-a9ff-4bb8-9f9d-1aadd20ed0db",
   "metadata": {},
   "outputs": [],
   "source": [
    "import torch\n",
    "import torch.nn as nn\n",
    "\n",
    "class load_customVGG16(nn.Module):\n",
    "    def __init__(self, num_classes=10):\n",
    "        super(load_customVGG16, self).__init__()\n",
    "        \n",
    "        # Define the feature extractor part of VGG16\n",
    "        self.features = nn.Sequential(\n",
    "            # Block 1\n",
    "            nn.Conv2d(3, 64, kernel_size=3, padding=1),\n",
    "            nn.ReLU(inplace=True),\n",
    "            nn.Conv2d(64, 64, kernel_size=3, padding=1),\n",
    "            nn.ReLU(inplace=True),\n",
    "            nn.MaxPool2d(kernel_size=2, stride=2),\n",
    "            \n",
    "            # Block 2\n",
    "            nn.Conv2d(64, 128, kernel_size=3, padding=1),\n",
    "            nn.ReLU(inplace=True),\n",
    "            nn.Conv2d(128, 128, kernel_size=3, padding=1),\n",
    "            nn.ReLU(inplace=True),\n",
    "            nn.MaxPool2d(kernel_size=2, stride=2),\n",
    "            \n",
    "            # Block 3\n",
    "            nn.Conv2d(128, 256, kernel_size=3, padding=1),\n",
    "            nn.ReLU(inplace=True),\n",
    "            nn.Conv2d(256, 256, kernel_size=3, padding=1),\n",
    "            nn.ReLU(inplace=True),\n",
    "            nn.Conv2d(256, 256, kernel_size=3, padding=1),\n",
    "            nn.ReLU(inplace=True),\n",
    "            nn.MaxPool2d(kernel_size=2, stride=2),\n",
    "            \n",
    "            # Block 4\n",
    "            nn.Conv2d(256, 512, kernel_size=3, padding=1),\n",
    "            nn.ReLU(inplace=True),\n",
    "            nn.Conv2d(512, 512, kernel_size=3, padding=1),\n",
    "            nn.ReLU(inplace=True),\n",
    "            nn.Conv2d(512, 512, kernel_size=3, padding=1),\n",
    "            nn.ReLU(inplace=True),\n",
    "            nn.MaxPool2d(kernel_size=2, stride=2),\n",
    "            \n",
    "            # Block 5\n",
    "            nn.Conv2d(512, 512, kernel_size=3, padding=1),\n",
    "            nn.ReLU(inplace=True),\n",
    "            nn.Conv2d(512, 512, kernel_size=3, padding=1),\n",
    "            nn.ReLU(inplace=True),\n",
    "            nn.Conv2d(512, 512, kernel_size=3, padding=1),\n",
    "            nn.ReLU(inplace=True),\n",
    "            nn.MaxPool2d(kernel_size=2, stride=2),\n",
    "        )\n",
    "        \n",
    "        # Define the classifier part of VGG16\n",
    "        self.classifier = nn.Sequential(\n",
    "            nn.Linear(512 * 7 * 7, 4096),\n",
    "            nn.ReLU(inplace=True),\n",
    "            nn.Dropout(),\n",
    "            nn.Linear(4096, 4096),\n",
    "            nn.ReLU(inplace=True),\n",
    "            nn.Dropout(),\n",
    "            nn.Linear(4096, num_classes),\n",
    "        )\n",
    "    \n",
    "    def forward(self, x):\n",
    "        x = self.features(x)\n",
    "        x = torch.flatten(x, 1)\n",
    "        x = self.classifier(x)\n",
    "        return x"
   ]
  },
  {
   "cell_type": "markdown",
   "id": "6489150c-7eed-47b9-abb4-18ec55d8accb",
   "metadata": {},
   "source": [
    "## Data Loader"
   ]
  },
  {
   "cell_type": "code",
   "execution_count": 3,
   "id": "7dc2663f-f648-4464-b708-cdf07dc97938",
   "metadata": {},
   "outputs": [],
   "source": [
    "import os\n",
    "import torch\n",
    "from torchvision import datasets, transforms\n",
    "from torch.utils.data import DataLoader\n",
    "\n",
    "data_dir = 'D:\\\\code\\\\train'\n",
    "def get_data_loaders(data_dir, batch_size):\n",
    "    train_transforms = transforms.Compose([\n",
    "        transforms.Resize((224, 224)),\n",
    "        transforms.ToTensor(),\n",
    "        transforms.Normalize(mean=[0.485, 0.456, 0.406], std=[0.229, 0.224, 0.225])\n",
    "    ])\n",
    "\n",
    "    val_transforms = transforms.Compose([\n",
    "        transforms.Resize((224, 224)),\n",
    "        transforms.ToTensor(),\n",
    "        transforms.Normalize(mean=[0.485, 0.456, 0.406], std=[0.229, 0.224, 0.225])\n",
    "    ])\n",
    "\n",
    "    train_dataset = datasets.ImageFolder(os.path.join(data_dir, 'train'), transform=train_transforms)\n",
    "    val_dataset = datasets.ImageFolder(os.path.join(data_dir, 'val'), transform=val_transforms)\n",
    "\n",
    "    train_loader = DataLoader(train_dataset, batch_size=batch_size, shuffle=True, num_workers=4)\n",
    "    val_loader = DataLoader(val_dataset, batch_size=batch_size, shuffle=False, num_workers=4)\n",
    "    return train_loader, val_loader"
   ]
  },
  {
   "cell_type": "markdown",
   "id": "feea463c-62b7-4ea2-b178-bef89cd870de",
   "metadata": {},
   "source": [
    "## Optimizers"
   ]
  },
  {
   "cell_type": "code",
   "execution_count": 4,
   "id": "c01b4994-a218-41a1-9652-250cf5aceadd",
   "metadata": {},
   "outputs": [],
   "source": [
    "import torch.optim as optim\n",
    "\n",
    "# Function to create and return the model and optimizer\n",
    "def create_model_optimizer(optimizer_name, lr):\n",
    "    model = load_customVGG16(num_classes=10).to(device)\n",
    "    optimizers = {\n",
    "        'SGD': optim.SGD(model.parameters(), lr=lr, momentum=0.9),\n",
    "        'Adam': optim.Adam(model.parameters(), lr=lr),\n",
    "        'RMSprop': optim.RMSprop(model.parameters(), lr=lr),\n",
    "        'AdamW': optim.AdamW(model.parameters(), lr=lr),\n",
    "        'Adamax': optim.Adamax(model.parameters(), lr=lr),\n",
    "        'SparseAdam': optim.SparseAdam(model.parameters(), lr=lr),\n",
    "        'RAdam': optim.RAdam(model.parameters(), lr=lr),\n",
    "        'NAdam': optim.NAdam(model.parameters(), lr=lr)\n",
    "    }\n",
    "    optimizer = optimizers[optimizer_name]\n",
    "    return model, optimizer"
   ]
  },
  {
   "cell_type": "markdown",
   "id": "6e773466-1c67-49a7-9b44-470e3a515846",
   "metadata": {},
   "source": [
    "# Training Loop"
   ]
  },
  {
   "cell_type": "code",
   "execution_count": 6,
   "id": "697e553d-f8fa-40ed-b7dc-e66f83dbff03",
   "metadata": {},
   "outputs": [],
   "source": [
    "import pandas as pd\n",
    "from tqdm import tqdm\n",
    "from torch.cuda.amp import GradScaler, autocast\n",
    "\n",
    "# Function to train and evaluate the model\n",
    "def train_and_evaluate(optimizer_name, lr, train_loader, val_loader):\n",
    "    model, optimizer = create_model_optimizer(optimizer_name, lr)\n",
    "    criterion = nn.CrossEntropyLoss()\n",
    "    scheduler = optim.lr_scheduler.StepLR(optimizer, step_size=5, gamma=0.1)\n",
    "    scaler = GradScaler()\n",
    "\n",
    "    best_val_acc = 0\n",
    "    best_model_wts = None\n",
    "\n",
    "    train_losses, val_losses = [], []\n",
    "    train_accuracies, val_accuracies = [], []\n",
    "\n",
    "    # Initialize lists to store epoch-wise data\n",
    "    epoch_data = {\n",
    "        'Epoch': [],\n",
    "        'Train Loss': [],\n",
    "        'Train Acc': [],\n",
    "        'Val Loss': [],\n",
    "        'Val Acc': []\n",
    "    }\n",
    "\n",
    "    for epoch in range(num_epochs):\n",
    "        model.train()\n",
    "        running_loss, correct, total = 0.0, 0, 0\n",
    "\n",
    "        loop = tqdm(train_loader, desc=f'Epoch [{epoch+1}/{num_epochs}]', leave=True)\n",
    "        for inputs, labels in loop:\n",
    "            inputs, labels = inputs.to(device), labels.to(device)\n",
    "            optimizer.zero_grad()\n",
    "\n",
    "            with autocast():\n",
    "                outputs = model(inputs)\n",
    "                loss = criterion(outputs, labels)\n",
    "            \n",
    "            scaler.scale(loss).backward()\n",
    "            nn.utils.clip_grad_norm_(model.parameters(), max_norm=1.0)\n",
    "            scaler.step(optimizer)\n",
    "            scaler.update()\n",
    "\n",
    "            running_loss += loss.item()\n",
    "            _, predicted = torch.max(outputs.data, 1)\n",
    "            total += labels.size(0)\n",
    "            correct += (predicted == labels).sum().item()\n",
    "            loop.set_postfix(loss=loss.item())\n",
    "        \n",
    "        train_loss = running_loss / len(train_loader)\n",
    "        train_accuracy = 100 * correct / total\n",
    "        train_losses.append(train_loss)\n",
    "        train_accuracies.append(train_accuracy)\n",
    "\n",
    "        val_loss, val_correct, val_total = 0.0, 0, 0\n",
    "        model.eval()\n",
    "        with torch.no_grad():\n",
    "            for inputs, labels in val_loader:\n",
    "                inputs, labels = inputs.to(device), labels.to(device)\n",
    "                outputs = model(inputs)\n",
    "                loss = criterion(outputs, labels)\n",
    "                val_loss += loss.item()\n",
    "\n",
    "                _, predicted = torch.max(outputs.data, 1)\n",
    "                val_total += labels.size(0)\n",
    "                val_correct += (predicted == labels).sum().item()\n",
    "        \n",
    "        val_loss /= len(val_loader)\n",
    "        val_accuracy = 100 * val_correct / val_total\n",
    "        val_losses.append(val_loss)\n",
    "        val_accuracies.append(val_accuracy)\n",
    "\n",
    "        scheduler.step()\n",
    "\n",
    "        # Add epoch-wise data to the dictionary\n",
    "        epoch_data['Epoch'].append(epoch + 1)\n",
    "        epoch_data['Train Loss'].append(train_loss)\n",
    "        epoch_data['Train Acc'].append(train_accuracy)\n",
    "        epoch_data['Val Loss'].append(val_loss)\n",
    "        epoch_data['Val Acc'].append(val_accuracy)\n",
    "\n",
    "        print(f'Epoch [{epoch+1}/{num_epochs}] - '\n",
    "          f'Train Loss: {train_loss:.4f}, '\n",
    "          f'Train Acc: {train_accuracy:.2f}%, '\n",
    "          f'Val Loss: {val_loss:.4f}, '\n",
    "          f'Val Acc: {val_accuracy:.2f}%')\n",
    "\n",
    "        if val_accuracy > best_val_acc:\n",
    "            best_val_acc = val_accuracy\n",
    "            best_model_wts = model.state_dict().copy()\n",
    "      \n",
    "    print(f'Best Validation Accuracy: {best_val_acc:.2f}%')\n",
    "    if best_model_wts:\n",
    "        model.load_state_dict(best_model_wts)\n",
    "    torch.save({\n",
    "        'model_state_dict': model.state_dict(),\n",
    "        'optimizer_state_dict': optimizer.state_dict(),\n",
    "        'best_val_acc': best_val_acc\n",
    "    }, f'Checkpoints_customVGG16/model_{optimizer_name}_batch_size_{batch_size}.pth')\n",
    "\n",
    "    # Convert epoch-wise data dictionary to DataFrame\n",
    "    df = pd.DataFrame(epoch_data)\n",
    "\n",
    "    # Save DataFrame to CSV file\n",
    "    df.to_csv(f'epoch_records__customVGG16/epoch_data_{optimizer_name}_batch_size_{batch_size}.csv', index=False)\n",
    "\n",
    "    return train_losses, val_losses, train_accuracies, val_accuracies"
   ]
  },
  {
   "cell_type": "code",
   "execution_count": 8,
   "id": "26c445ca-eb43-463f-b216-781d11bb9fdc",
   "metadata": {},
   "outputs": [
    {
     "name": "stdout",
     "output_type": "stream",
     "text": [
      "Training with optimizer Adam and batch size 8\n"
     ]
    },
    {
     "name": "stderr",
     "output_type": "stream",
     "text": [
      "Epoch [1/10]: 100%|███████████████████████████████████████████████████████| 125/125 [00:26<00:00,  4.77it/s, loss=2.31]\n"
     ]
    },
    {
     "name": "stdout",
     "output_type": "stream",
     "text": [
      "Epoch [1/10] - Train Loss: 2.3038, Train Acc: 7.60%, Val Loss: 2.3024, Val Acc: 10.00%\n"
     ]
    },
    {
     "name": "stderr",
     "output_type": "stream",
     "text": [
      "Epoch [2/10]: 100%|███████████████████████████████████████████████████████| 125/125 [00:28<00:00,  4.45it/s, loss=2.31]\n"
     ]
    },
    {
     "name": "stdout",
     "output_type": "stream",
     "text": [
      "Epoch [2/10] - Train Loss: 2.3033, Train Acc: 9.30%, Val Loss: 2.3025, Val Acc: 10.00%\n"
     ]
    },
    {
     "name": "stderr",
     "output_type": "stream",
     "text": [
      "Epoch [3/10]: 100%|████████████████████████████████████████████████████████| 125/125 [00:34<00:00,  3.67it/s, loss=2.3]\n"
     ]
    },
    {
     "name": "stdout",
     "output_type": "stream",
     "text": [
      "Epoch [3/10] - Train Loss: 2.3036, Train Acc: 9.60%, Val Loss: 2.3025, Val Acc: 10.00%\n"
     ]
    },
    {
     "name": "stderr",
     "output_type": "stream",
     "text": [
      "Epoch [4/10]: 100%|████████████████████████████████████████████████████████| 125/125 [00:33<00:00,  3.73it/s, loss=2.3]\n"
     ]
    },
    {
     "name": "stdout",
     "output_type": "stream",
     "text": [
      "Epoch [4/10] - Train Loss: 2.3032, Train Acc: 8.50%, Val Loss: 2.3030, Val Acc: 10.00%\n"
     ]
    },
    {
     "name": "stderr",
     "output_type": "stream",
     "text": [
      "Epoch [5/10]: 100%|████████████████████████████████████████████████████████| 125/125 [00:33<00:00,  3.76it/s, loss=2.3]\n"
     ]
    },
    {
     "name": "stdout",
     "output_type": "stream",
     "text": [
      "Epoch [5/10] - Train Loss: 2.3032, Train Acc: 9.20%, Val Loss: 2.3026, Val Acc: 10.00%\n"
     ]
    },
    {
     "name": "stderr",
     "output_type": "stream",
     "text": [
      "Epoch [6/10]: 100%|████████████████████████████████████████████████████████| 125/125 [00:32<00:00,  3.86it/s, loss=2.3]\n"
     ]
    },
    {
     "name": "stdout",
     "output_type": "stream",
     "text": [
      "Epoch [6/10] - Train Loss: 2.3026, Train Acc: 11.00%, Val Loss: 2.3026, Val Acc: 10.00%\n"
     ]
    },
    {
     "name": "stderr",
     "output_type": "stream",
     "text": [
      "Epoch [7/10]: 100%|████████████████████████████████████████████████████████| 125/125 [00:31<00:00,  3.93it/s, loss=2.3]\n"
     ]
    },
    {
     "name": "stdout",
     "output_type": "stream",
     "text": [
      "Epoch [7/10] - Train Loss: 2.3028, Train Acc: 9.70%, Val Loss: 2.3026, Val Acc: 10.00%\n"
     ]
    },
    {
     "name": "stderr",
     "output_type": "stream",
     "text": [
      "Epoch [8/10]: 100%|████████████████████████████████████████████████████████| 125/125 [00:31<00:00,  4.02it/s, loss=2.3]\n"
     ]
    },
    {
     "name": "stdout",
     "output_type": "stream",
     "text": [
      "Epoch [8/10] - Train Loss: 2.3026, Train Acc: 11.00%, Val Loss: 2.3026, Val Acc: 10.00%\n"
     ]
    },
    {
     "name": "stderr",
     "output_type": "stream",
     "text": [
      "Epoch [9/10]: 100%|████████████████████████████████████████████████████████| 125/125 [00:30<00:00,  4.11it/s, loss=2.3]\n"
     ]
    },
    {
     "name": "stdout",
     "output_type": "stream",
     "text": [
      "Epoch [9/10] - Train Loss: 2.3026, Train Acc: 9.80%, Val Loss: 2.3026, Val Acc: 10.00%\n"
     ]
    },
    {
     "name": "stderr",
     "output_type": "stream",
     "text": [
      "Epoch [10/10]: 100%|███████████████████████████████████████████████████████| 125/125 [00:30<00:00,  4.15it/s, loss=2.3]\n"
     ]
    },
    {
     "name": "stdout",
     "output_type": "stream",
     "text": [
      "Epoch [10/10] - Train Loss: 2.3029, Train Acc: 10.50%, Val Loss: 2.3026, Val Acc: 10.00%\n",
      "Best Validation Accuracy: 10.00%\n",
      "Training with optimizer Adam and batch size 16\n"
     ]
    },
    {
     "name": "stderr",
     "output_type": "stream",
     "text": [
      "Epoch [1/10]: 100%|██████████████████████████████████████████████████████████| 63/63 [00:20<00:00,  3.09it/s, loss=2.3]\n"
     ]
    },
    {
     "name": "stdout",
     "output_type": "stream",
     "text": [
      "Epoch [1/10] - Train Loss: 2.3032, Train Acc: 8.70%, Val Loss: 2.3036, Val Acc: 10.00%\n"
     ]
    },
    {
     "name": "stderr",
     "output_type": "stream",
     "text": [
      "Epoch [2/10]: 100%|█████████████████████████████████████████████████████████| 63/63 [00:25<00:00,  2.48it/s, loss=2.31]\n"
     ]
    },
    {
     "name": "stdout",
     "output_type": "stream",
     "text": [
      "Epoch [2/10] - Train Loss: 2.3033, Train Acc: 9.70%, Val Loss: 2.3040, Val Acc: 10.00%\n"
     ]
    },
    {
     "name": "stderr",
     "output_type": "stream",
     "text": [
      "Epoch [3/10]: 100%|██████████████████████████████████████████████████████████| 63/63 [00:20<00:00,  3.06it/s, loss=2.3]\n"
     ]
    },
    {
     "name": "stdout",
     "output_type": "stream",
     "text": [
      "Epoch [3/10] - Train Loss: 2.3034, Train Acc: 8.10%, Val Loss: 2.3036, Val Acc: 10.00%\n"
     ]
    },
    {
     "name": "stderr",
     "output_type": "stream",
     "text": [
      "Epoch [4/10]: 100%|██████████████████████████████████████████████████████████| 63/63 [00:21<00:00,  2.94it/s, loss=2.3]\n"
     ]
    },
    {
     "name": "stdout",
     "output_type": "stream",
     "text": [
      "Epoch [4/10] - Train Loss: 2.3030, Train Acc: 9.30%, Val Loss: 2.3026, Val Acc: 10.00%\n"
     ]
    },
    {
     "name": "stderr",
     "output_type": "stream",
     "text": [
      "Epoch [5/10]: 100%|██████████████████████████████████████████████████████████| 63/63 [00:21<00:00,  2.93it/s, loss=2.3]\n"
     ]
    },
    {
     "name": "stdout",
     "output_type": "stream",
     "text": [
      "Epoch [5/10] - Train Loss: 2.3032, Train Acc: 8.70%, Val Loss: 2.3028, Val Acc: 10.00%\n"
     ]
    },
    {
     "name": "stderr",
     "output_type": "stream",
     "text": [
      "Epoch [6/10]: 100%|██████████████████████████████████████████████████████████| 63/63 [00:21<00:00,  2.96it/s, loss=2.3]\n"
     ]
    },
    {
     "name": "stdout",
     "output_type": "stream",
     "text": [
      "Epoch [6/10] - Train Loss: 2.3028, Train Acc: 9.40%, Val Loss: 2.3028, Val Acc: 10.00%\n"
     ]
    },
    {
     "name": "stderr",
     "output_type": "stream",
     "text": [
      "Epoch [7/10]: 100%|██████████████████████████████████████████████████████████| 63/63 [00:21<00:00,  2.88it/s, loss=2.3]\n"
     ]
    },
    {
     "name": "stdout",
     "output_type": "stream",
     "text": [
      "Epoch [7/10] - Train Loss: 2.3026, Train Acc: 10.00%, Val Loss: 2.3028, Val Acc: 10.00%\n"
     ]
    },
    {
     "name": "stderr",
     "output_type": "stream",
     "text": [
      "Epoch [8/10]: 100%|██████████████████████████████████████████████████████████| 63/63 [00:21<00:00,  2.93it/s, loss=2.3]\n"
     ]
    },
    {
     "name": "stdout",
     "output_type": "stream",
     "text": [
      "Epoch [8/10] - Train Loss: 2.3026, Train Acc: 9.10%, Val Loss: 2.3028, Val Acc: 10.00%\n"
     ]
    },
    {
     "name": "stderr",
     "output_type": "stream",
     "text": [
      "Epoch [9/10]: 100%|██████████████████████████████████████████████████████████| 63/63 [00:21<00:00,  2.89it/s, loss=2.3]\n"
     ]
    },
    {
     "name": "stdout",
     "output_type": "stream",
     "text": [
      "Epoch [9/10] - Train Loss: 2.3028, Train Acc: 10.10%, Val Loss: 2.3028, Val Acc: 10.00%\n"
     ]
    },
    {
     "name": "stderr",
     "output_type": "stream",
     "text": [
      "Epoch [10/10]: 100%|█████████████████████████████████████████████████████████| 63/63 [00:22<00:00,  2.83it/s, loss=2.3]\n"
     ]
    },
    {
     "name": "stdout",
     "output_type": "stream",
     "text": [
      "Epoch [10/10] - Train Loss: 2.3026, Train Acc: 9.90%, Val Loss: 2.3028, Val Acc: 10.00%\n",
      "Best Validation Accuracy: 10.00%\n",
      "Training with optimizer Adam and batch size 32\n"
     ]
    },
    {
     "name": "stderr",
     "output_type": "stream",
     "text": [
      "Epoch [1/10]: 100%|██████████████████████████████████████████████████████████| 32/32 [00:21<00:00,  1.48it/s, loss=2.3]\n"
     ]
    },
    {
     "name": "stdout",
     "output_type": "stream",
     "text": [
      "Epoch [1/10] - Train Loss: 2.3034, Train Acc: 10.00%, Val Loss: 2.3006, Val Acc: 10.00%\n"
     ]
    },
    {
     "name": "stderr",
     "output_type": "stream",
     "text": [
      "Epoch [2/10]: 100%|██████████████████████████████████████████████████████████| 32/32 [00:19<00:00,  1.67it/s, loss=2.3]\n"
     ]
    },
    {
     "name": "stdout",
     "output_type": "stream",
     "text": [
      "Epoch [2/10] - Train Loss: 2.3033, Train Acc: 8.30%, Val Loss: 2.2994, Val Acc: 10.00%\n"
     ]
    },
    {
     "name": "stderr",
     "output_type": "stream",
     "text": [
      "Epoch [3/10]: 100%|█████████████████████████████████████████████████████████| 32/32 [00:12<00:00,  2.57it/s, loss=2.31]\n"
     ]
    },
    {
     "name": "stdout",
     "output_type": "stream",
     "text": [
      "Epoch [3/10] - Train Loss: 2.3032, Train Acc: 8.90%, Val Loss: 2.2991, Val Acc: 10.00%\n"
     ]
    },
    {
     "name": "stderr",
     "output_type": "stream",
     "text": [
      "Epoch [4/10]: 100%|█████████████████████████████████████████████████████████| 32/32 [00:12<00:00,  2.63it/s, loss=2.31]\n"
     ]
    },
    {
     "name": "stdout",
     "output_type": "stream",
     "text": [
      "Epoch [4/10] - Train Loss: 2.3034, Train Acc: 9.50%, Val Loss: 2.3007, Val Acc: 10.00%\n"
     ]
    },
    {
     "name": "stderr",
     "output_type": "stream",
     "text": [
      "Epoch [5/10]: 100%|██████████████████████████████████████████████████████████| 32/32 [00:12<00:00,  2.61it/s, loss=2.3]\n"
     ]
    },
    {
     "name": "stdout",
     "output_type": "stream",
     "text": [
      "Epoch [5/10] - Train Loss: 2.3029, Train Acc: 8.90%, Val Loss: 2.3015, Val Acc: 10.00%\n"
     ]
    },
    {
     "name": "stderr",
     "output_type": "stream",
     "text": [
      "Epoch [6/10]: 100%|██████████████████████████████████████████████████████████| 32/32 [00:12<00:00,  2.56it/s, loss=2.3]\n"
     ]
    },
    {
     "name": "stdout",
     "output_type": "stream",
     "text": [
      "Epoch [6/10] - Train Loss: 2.3025, Train Acc: 10.20%, Val Loss: 2.3016, Val Acc: 10.00%\n"
     ]
    },
    {
     "name": "stderr",
     "output_type": "stream",
     "text": [
      "Epoch [7/10]: 100%|██████████████████████████████████████████████████████████| 32/32 [00:12<00:00,  2.49it/s, loss=2.3]\n"
     ]
    },
    {
     "name": "stdout",
     "output_type": "stream",
     "text": [
      "Epoch [7/10] - Train Loss: 2.3027, Train Acc: 8.60%, Val Loss: 2.3016, Val Acc: 10.00%\n"
     ]
    },
    {
     "name": "stderr",
     "output_type": "stream",
     "text": [
      "Epoch [8/10]: 100%|█████████████████████████████████████████████████████████| 32/32 [00:12<00:00,  2.49it/s, loss=2.31]\n"
     ]
    },
    {
     "name": "stdout",
     "output_type": "stream",
     "text": [
      "Epoch [8/10] - Train Loss: 2.3028, Train Acc: 9.60%, Val Loss: 2.3016, Val Acc: 10.00%\n"
     ]
    },
    {
     "name": "stderr",
     "output_type": "stream",
     "text": [
      "Epoch [9/10]: 100%|██████████████████████████████████████████████████████████| 32/32 [00:13<00:00,  2.44it/s, loss=2.3]\n"
     ]
    },
    {
     "name": "stdout",
     "output_type": "stream",
     "text": [
      "Epoch [9/10] - Train Loss: 2.3028, Train Acc: 8.90%, Val Loss: 2.3016, Val Acc: 10.00%\n"
     ]
    },
    {
     "name": "stderr",
     "output_type": "stream",
     "text": [
      "Epoch [10/10]: 100%|█████████████████████████████████████████████████████████| 32/32 [00:13<00:00,  2.43it/s, loss=2.3]\n"
     ]
    },
    {
     "name": "stdout",
     "output_type": "stream",
     "text": [
      "Epoch [10/10] - Train Loss: 2.3028, Train Acc: 9.80%, Val Loss: 2.3015, Val Acc: 10.00%\n",
      "Best Validation Accuracy: 10.00%\n",
      "Training with optimizer SGD and batch size 8\n"
     ]
    },
    {
     "name": "stderr",
     "output_type": "stream",
     "text": [
      "Epoch [1/10]: 100%|████████████████████████████████████████████████████████| 125/125 [00:24<00:00,  5.17it/s, loss=2.3]\n"
     ]
    },
    {
     "name": "stdout",
     "output_type": "stream",
     "text": [
      "Epoch [1/10] - Train Loss: 2.3027, Train Acc: 10.70%, Val Loss: 2.3026, Val Acc: 10.00%\n"
     ]
    },
    {
     "name": "stderr",
     "output_type": "stream",
     "text": [
      "Epoch [2/10]: 100%|████████████████████████████████████████████████████████| 125/125 [00:24<00:00,  5.16it/s, loss=2.3]\n"
     ]
    },
    {
     "name": "stdout",
     "output_type": "stream",
     "text": [
      "Epoch [2/10] - Train Loss: 2.3027, Train Acc: 10.10%, Val Loss: 2.3026, Val Acc: 10.00%\n"
     ]
    },
    {
     "name": "stderr",
     "output_type": "stream",
     "text": [
      "Epoch [3/10]: 100%|████████████████████████████████████████████████████████| 125/125 [00:29<00:00,  4.25it/s, loss=2.3]\n"
     ]
    },
    {
     "name": "stdout",
     "output_type": "stream",
     "text": [
      "Epoch [3/10] - Train Loss: 2.3025, Train Acc: 8.90%, Val Loss: 2.3026, Val Acc: 10.00%\n"
     ]
    },
    {
     "name": "stderr",
     "output_type": "stream",
     "text": [
      "Epoch [4/10]: 100%|███████████████████████████████████████████████████████| 125/125 [00:24<00:00,  5.16it/s, loss=2.29]\n"
     ]
    },
    {
     "name": "stdout",
     "output_type": "stream",
     "text": [
      "Epoch [4/10] - Train Loss: 2.3026, Train Acc: 10.10%, Val Loss: 2.3026, Val Acc: 10.00%\n"
     ]
    },
    {
     "name": "stderr",
     "output_type": "stream",
     "text": [
      "Epoch [5/10]: 100%|███████████████████████████████████████████████████████| 125/125 [00:19<00:00,  6.40it/s, loss=2.31]\n"
     ]
    },
    {
     "name": "stdout",
     "output_type": "stream",
     "text": [
      "Epoch [5/10] - Train Loss: 2.3028, Train Acc: 10.00%, Val Loss: 2.3026, Val Acc: 10.00%\n"
     ]
    },
    {
     "name": "stderr",
     "output_type": "stream",
     "text": [
      "Epoch [6/10]: 100%|███████████████████████████████████████████████████████| 125/125 [00:21<00:00,  5.69it/s, loss=2.31]\n"
     ]
    },
    {
     "name": "stdout",
     "output_type": "stream",
     "text": [
      "Epoch [6/10] - Train Loss: 2.3027, Train Acc: 10.60%, Val Loss: 2.3026, Val Acc: 10.00%\n"
     ]
    },
    {
     "name": "stderr",
     "output_type": "stream",
     "text": [
      "Epoch [7/10]: 100%|████████████████████████████████████████████████████████| 125/125 [00:27<00:00,  4.49it/s, loss=2.3]\n"
     ]
    },
    {
     "name": "stdout",
     "output_type": "stream",
     "text": [
      "Epoch [7/10] - Train Loss: 2.3028, Train Acc: 10.90%, Val Loss: 2.3026, Val Acc: 10.00%\n"
     ]
    },
    {
     "name": "stderr",
     "output_type": "stream",
     "text": [
      "Epoch [8/10]: 100%|████████████████████████████████████████████████████████| 125/125 [00:30<00:00,  4.14it/s, loss=2.3]\n"
     ]
    },
    {
     "name": "stdout",
     "output_type": "stream",
     "text": [
      "Epoch [8/10] - Train Loss: 2.3026, Train Acc: 10.20%, Val Loss: 2.3026, Val Acc: 10.00%\n"
     ]
    },
    {
     "name": "stderr",
     "output_type": "stream",
     "text": [
      "Epoch [9/10]: 100%|███████████████████████████████████████████████████████| 125/125 [00:25<00:00,  4.88it/s, loss=2.31]\n"
     ]
    },
    {
     "name": "stdout",
     "output_type": "stream",
     "text": [
      "Epoch [9/10] - Train Loss: 2.3027, Train Acc: 10.00%, Val Loss: 2.3026, Val Acc: 10.00%\n"
     ]
    },
    {
     "name": "stderr",
     "output_type": "stream",
     "text": [
      "Epoch [10/10]: 100%|██████████████████████████████████████████████████████| 125/125 [00:20<00:00,  6.20it/s, loss=2.31]\n"
     ]
    },
    {
     "name": "stdout",
     "output_type": "stream",
     "text": [
      "Epoch [10/10] - Train Loss: 2.3026, Train Acc: 10.90%, Val Loss: 2.3026, Val Acc: 10.00%\n",
      "Best Validation Accuracy: 10.00%\n",
      "Training with optimizer SGD and batch size 16\n"
     ]
    },
    {
     "name": "stderr",
     "output_type": "stream",
     "text": [
      "Epoch [1/10]: 100%|██████████████████████████████████████████████████████████| 63/63 [00:14<00:00,  4.22it/s, loss=2.3]\n"
     ]
    },
    {
     "name": "stdout",
     "output_type": "stream",
     "text": [
      "Epoch [1/10] - Train Loss: 2.3025, Train Acc: 11.90%, Val Loss: 2.3016, Val Acc: 10.00%\n"
     ]
    },
    {
     "name": "stderr",
     "output_type": "stream",
     "text": [
      "Epoch [2/10]: 100%|█████████████████████████████████████████████████████████| 63/63 [00:22<00:00,  2.78it/s, loss=2.31]\n"
     ]
    },
    {
     "name": "stdout",
     "output_type": "stream",
     "text": [
      "Epoch [2/10] - Train Loss: 2.3029, Train Acc: 9.60%, Val Loss: 2.3016, Val Acc: 10.00%\n"
     ]
    },
    {
     "name": "stderr",
     "output_type": "stream",
     "text": [
      "Epoch [3/10]: 100%|██████████████████████████████████████████████████████████| 63/63 [00:22<00:00,  2.83it/s, loss=2.3]\n"
     ]
    },
    {
     "name": "stdout",
     "output_type": "stream",
     "text": [
      "Epoch [3/10] - Train Loss: 2.3026, Train Acc: 9.30%, Val Loss: 2.3016, Val Acc: 10.00%\n"
     ]
    },
    {
     "name": "stderr",
     "output_type": "stream",
     "text": [
      "Epoch [4/10]: 100%|██████████████████████████████████████████████████████████| 63/63 [00:13<00:00,  4.66it/s, loss=2.3]\n"
     ]
    },
    {
     "name": "stdout",
     "output_type": "stream",
     "text": [
      "Epoch [4/10] - Train Loss: 2.3026, Train Acc: 10.60%, Val Loss: 2.3016, Val Acc: 10.00%\n"
     ]
    },
    {
     "name": "stderr",
     "output_type": "stream",
     "text": [
      "Epoch [5/10]: 100%|██████████████████████████████████████████████████████████| 63/63 [00:23<00:00,  2.71it/s, loss=2.3]\n"
     ]
    },
    {
     "name": "stdout",
     "output_type": "stream",
     "text": [
      "Epoch [5/10] - Train Loss: 2.3027, Train Acc: 9.60%, Val Loss: 2.3016, Val Acc: 10.00%\n"
     ]
    },
    {
     "name": "stderr",
     "output_type": "stream",
     "text": [
      "Epoch [6/10]: 100%|█████████████████████████████████████████████████████████| 63/63 [00:17<00:00,  3.57it/s, loss=2.31]\n"
     ]
    },
    {
     "name": "stdout",
     "output_type": "stream",
     "text": [
      "Epoch [6/10] - Train Loss: 2.3027, Train Acc: 9.80%, Val Loss: 2.3016, Val Acc: 10.00%\n"
     ]
    },
    {
     "name": "stderr",
     "output_type": "stream",
     "text": [
      "Epoch [7/10]: 100%|██████████████████████████████████████████████████████████| 63/63 [00:15<00:00,  4.08it/s, loss=2.3]\n"
     ]
    },
    {
     "name": "stdout",
     "output_type": "stream",
     "text": [
      "Epoch [7/10] - Train Loss: 2.3027, Train Acc: 8.90%, Val Loss: 2.3016, Val Acc: 10.00%\n"
     ]
    },
    {
     "name": "stderr",
     "output_type": "stream",
     "text": [
      "Epoch [8/10]: 100%|█████████████████████████████████████████████████████████| 63/63 [00:13<00:00,  4.73it/s, loss=2.31]\n"
     ]
    },
    {
     "name": "stdout",
     "output_type": "stream",
     "text": [
      "Epoch [8/10] - Train Loss: 2.3026, Train Acc: 9.00%, Val Loss: 2.3016, Val Acc: 10.00%\n"
     ]
    },
    {
     "name": "stderr",
     "output_type": "stream",
     "text": [
      "Epoch [9/10]: 100%|██████████████████████████████████████████████████████████| 63/63 [00:16<00:00,  3.94it/s, loss=2.3]\n"
     ]
    },
    {
     "name": "stdout",
     "output_type": "stream",
     "text": [
      "Epoch [9/10] - Train Loss: 2.3026, Train Acc: 9.90%, Val Loss: 2.3016, Val Acc: 10.00%\n"
     ]
    },
    {
     "name": "stderr",
     "output_type": "stream",
     "text": [
      "Epoch [10/10]: 100%|█████████████████████████████████████████████████████████| 63/63 [00:18<00:00,  3.40it/s, loss=2.3]\n"
     ]
    },
    {
     "name": "stdout",
     "output_type": "stream",
     "text": [
      "Epoch [10/10] - Train Loss: 2.3026, Train Acc: 9.80%, Val Loss: 2.3016, Val Acc: 10.00%\n",
      "Best Validation Accuracy: 10.00%\n",
      "Training with optimizer SGD and batch size 32\n"
     ]
    },
    {
     "name": "stderr",
     "output_type": "stream",
     "text": [
      "Epoch [1/10]: 100%|██████████████████████████████████████████████████████████| 32/32 [00:16<00:00,  1.98it/s, loss=2.3]\n"
     ]
    },
    {
     "name": "stdout",
     "output_type": "stream",
     "text": [
      "Epoch [1/10] - Train Loss: 2.3025, Train Acc: 10.00%, Val Loss: 2.3040, Val Acc: 10.00%\n"
     ]
    },
    {
     "name": "stderr",
     "output_type": "stream",
     "text": [
      "Epoch [2/10]: 100%|██████████████████████████████████████████████████████████| 32/32 [00:19<00:00,  1.63it/s, loss=2.3]\n"
     ]
    },
    {
     "name": "stdout",
     "output_type": "stream",
     "text": [
      "Epoch [2/10] - Train Loss: 2.3026, Train Acc: 10.40%, Val Loss: 2.3040, Val Acc: 10.00%\n"
     ]
    },
    {
     "name": "stderr",
     "output_type": "stream",
     "text": [
      "Epoch [3/10]: 100%|█████████████████████████████████████████████████████████| 32/32 [00:18<00:00,  1.69it/s, loss=2.31]\n"
     ]
    },
    {
     "name": "stdout",
     "output_type": "stream",
     "text": [
      "Epoch [3/10] - Train Loss: 2.3028, Train Acc: 10.10%, Val Loss: 2.3040, Val Acc: 10.00%\n"
     ]
    },
    {
     "name": "stderr",
     "output_type": "stream",
     "text": [
      "Epoch [4/10]: 100%|██████████████████████████████████████████████████████████| 32/32 [00:14<00:00,  2.28it/s, loss=2.3]\n"
     ]
    },
    {
     "name": "stdout",
     "output_type": "stream",
     "text": [
      "Epoch [4/10] - Train Loss: 2.3026, Train Acc: 9.80%, Val Loss: 2.3040, Val Acc: 10.00%\n"
     ]
    },
    {
     "name": "stderr",
     "output_type": "stream",
     "text": [
      "Epoch [5/10]: 100%|██████████████████████████████████████████████████████████| 32/32 [00:11<00:00,  2.70it/s, loss=2.3]\n"
     ]
    },
    {
     "name": "stdout",
     "output_type": "stream",
     "text": [
      "Epoch [5/10] - Train Loss: 2.3024, Train Acc: 10.10%, Val Loss: 2.3040, Val Acc: 10.00%\n"
     ]
    },
    {
     "name": "stderr",
     "output_type": "stream",
     "text": [
      "Epoch [6/10]: 100%|██████████████████████████████████████████████████████████| 32/32 [00:16<00:00,  1.97it/s, loss=2.3]\n"
     ]
    },
    {
     "name": "stdout",
     "output_type": "stream",
     "text": [
      "Epoch [6/10] - Train Loss: 2.3026, Train Acc: 10.40%, Val Loss: 2.3040, Val Acc: 10.00%\n"
     ]
    },
    {
     "name": "stderr",
     "output_type": "stream",
     "text": [
      "Epoch [7/10]: 100%|██████████████████████████████████████████████████████████| 32/32 [00:20<00:00,  1.58it/s, loss=2.3]\n"
     ]
    },
    {
     "name": "stdout",
     "output_type": "stream",
     "text": [
      "Epoch [7/10] - Train Loss: 2.3024, Train Acc: 10.70%, Val Loss: 2.3040, Val Acc: 10.00%\n"
     ]
    },
    {
     "name": "stderr",
     "output_type": "stream",
     "text": [
      "Epoch [8/10]: 100%|██████████████████████████████████████████████████████████| 32/32 [00:14<00:00,  2.14it/s, loss=2.3]\n"
     ]
    },
    {
     "name": "stdout",
     "output_type": "stream",
     "text": [
      "Epoch [8/10] - Train Loss: 2.3025, Train Acc: 10.40%, Val Loss: 2.3040, Val Acc: 10.00%\n"
     ]
    },
    {
     "name": "stderr",
     "output_type": "stream",
     "text": [
      "Epoch [9/10]: 100%|██████████████████████████████████████████████████████████| 32/32 [00:14<00:00,  2.26it/s, loss=2.3]\n"
     ]
    },
    {
     "name": "stdout",
     "output_type": "stream",
     "text": [
      "Epoch [9/10] - Train Loss: 2.3027, Train Acc: 9.20%, Val Loss: 2.3040, Val Acc: 10.00%\n"
     ]
    },
    {
     "name": "stderr",
     "output_type": "stream",
     "text": [
      "Epoch [10/10]: 100%|████████████████████████████████████████████████████████| 32/32 [00:11<00:00,  2.70it/s, loss=2.31]\n"
     ]
    },
    {
     "name": "stdout",
     "output_type": "stream",
     "text": [
      "Epoch [10/10] - Train Loss: 2.3025, Train Acc: 10.40%, Val Loss: 2.3040, Val Acc: 10.00%\n",
      "Best Validation Accuracy: 10.00%\n",
      "Training with optimizer RMSprop and batch size 8\n"
     ]
    },
    {
     "name": "stderr",
     "output_type": "stream",
     "text": [
      "Epoch [1/10]: 100%|████████████████████████████████████████████████████████| 125/125 [00:27<00:00,  4.58it/s, loss=2.3]\n"
     ]
    },
    {
     "name": "stdout",
     "output_type": "stream",
     "text": [
      "Epoch [1/10] - Train Loss: 2.3046, Train Acc: 7.90%, Val Loss: 2.3024, Val Acc: 10.00%\n"
     ]
    },
    {
     "name": "stderr",
     "output_type": "stream",
     "text": [
      "Epoch [2/10]: 100%|████████████████████████████████████████████████████████| 125/125 [00:27<00:00,  4.57it/s, loss=2.3]\n"
     ]
    },
    {
     "name": "stdout",
     "output_type": "stream",
     "text": [
      "Epoch [2/10] - Train Loss: 2.3036, Train Acc: 8.80%, Val Loss: 2.3024, Val Acc: 10.00%\n"
     ]
    },
    {
     "name": "stderr",
     "output_type": "stream",
     "text": [
      "Epoch [3/10]: 100%|████████████████████████████████████████████████████████| 125/125 [00:22<00:00,  5.44it/s, loss=2.3]\n"
     ]
    },
    {
     "name": "stdout",
     "output_type": "stream",
     "text": [
      "Epoch [3/10] - Train Loss: 2.3037, Train Acc: 9.20%, Val Loss: 2.3024, Val Acc: 10.00%\n"
     ]
    },
    {
     "name": "stderr",
     "output_type": "stream",
     "text": [
      "Epoch [4/10]: 100%|███████████████████████████████████████████████████████| 125/125 [00:24<00:00,  5.13it/s, loss=2.31]\n"
     ]
    },
    {
     "name": "stdout",
     "output_type": "stream",
     "text": [
      "Epoch [4/10] - Train Loss: 2.3038, Train Acc: 8.00%, Val Loss: 2.3024, Val Acc: 10.00%\n"
     ]
    },
    {
     "name": "stderr",
     "output_type": "stream",
     "text": [
      "Epoch [5/10]: 100%|████████████████████████████████████████████████████████| 125/125 [00:27<00:00,  4.59it/s, loss=2.3]\n"
     ]
    },
    {
     "name": "stdout",
     "output_type": "stream",
     "text": [
      "Epoch [5/10] - Train Loss: 2.3034, Train Acc: 8.60%, Val Loss: 2.3023, Val Acc: 10.00%\n"
     ]
    },
    {
     "name": "stderr",
     "output_type": "stream",
     "text": [
      "Epoch [6/10]: 100%|███████████████████████████████████████████████████████| 125/125 [00:24<00:00,  5.12it/s, loss=2.31]\n"
     ]
    },
    {
     "name": "stdout",
     "output_type": "stream",
     "text": [
      "Epoch [6/10] - Train Loss: 2.3028, Train Acc: 9.80%, Val Loss: 2.3023, Val Acc: 10.00%\n"
     ]
    },
    {
     "name": "stderr",
     "output_type": "stream",
     "text": [
      "Epoch [7/10]: 100%|████████████████████████████████████████████████████████| 125/125 [00:32<00:00,  3.82it/s, loss=2.3]\n"
     ]
    },
    {
     "name": "stdout",
     "output_type": "stream",
     "text": [
      "Epoch [7/10] - Train Loss: 2.3027, Train Acc: 10.20%, Val Loss: 2.3023, Val Acc: 10.00%\n"
     ]
    },
    {
     "name": "stderr",
     "output_type": "stream",
     "text": [
      "Epoch [8/10]: 100%|███████████████████████████████████████████████████████| 125/125 [00:34<00:00,  3.64it/s, loss=2.31]\n"
     ]
    },
    {
     "name": "stdout",
     "output_type": "stream",
     "text": [
      "Epoch [8/10] - Train Loss: 2.3029, Train Acc: 7.80%, Val Loss: 2.3023, Val Acc: 10.00%\n"
     ]
    },
    {
     "name": "stderr",
     "output_type": "stream",
     "text": [
      "Epoch [9/10]: 100%|████████████████████████████████████████████████████████| 125/125 [00:31<00:00,  3.93it/s, loss=2.3]\n"
     ]
    },
    {
     "name": "stdout",
     "output_type": "stream",
     "text": [
      "Epoch [9/10] - Train Loss: 2.3027, Train Acc: 9.70%, Val Loss: 2.3023, Val Acc: 10.00%\n"
     ]
    },
    {
     "name": "stderr",
     "output_type": "stream",
     "text": [
      "Epoch [10/10]: 100%|███████████████████████████████████████████████████████| 125/125 [00:27<00:00,  4.63it/s, loss=2.3]\n"
     ]
    },
    {
     "name": "stdout",
     "output_type": "stream",
     "text": [
      "Epoch [10/10] - Train Loss: 2.3027, Train Acc: 10.80%, Val Loss: 2.3023, Val Acc: 10.00%\n",
      "Best Validation Accuracy: 10.00%\n",
      "Training with optimizer RMSprop and batch size 16\n"
     ]
    },
    {
     "name": "stderr",
     "output_type": "stream",
     "text": [
      "Epoch [1/10]: 100%|██████████████████████████████████████████████████████████| 63/63 [00:17<00:00,  3.55it/s, loss=2.3]\n"
     ]
    },
    {
     "name": "stdout",
     "output_type": "stream",
     "text": [
      "Epoch [1/10] - Train Loss: 2.3039, Train Acc: 8.90%, Val Loss: 2.3031, Val Acc: 10.00%\n"
     ]
    },
    {
     "name": "stderr",
     "output_type": "stream",
     "text": [
      "Epoch [2/10]: 100%|██████████████████████████████████████████████████████████| 63/63 [00:19<00:00,  3.30it/s, loss=2.3]\n"
     ]
    },
    {
     "name": "stdout",
     "output_type": "stream",
     "text": [
      "Epoch [2/10] - Train Loss: 2.3035, Train Acc: 8.80%, Val Loss: 2.3026, Val Acc: 10.00%\n"
     ]
    },
    {
     "name": "stderr",
     "output_type": "stream",
     "text": [
      "Epoch [3/10]: 100%|██████████████████████████████████████████████████████████| 63/63 [00:25<00:00,  2.49it/s, loss=2.3]\n"
     ]
    },
    {
     "name": "stdout",
     "output_type": "stream",
     "text": [
      "Epoch [3/10] - Train Loss: 2.3034, Train Acc: 9.00%, Val Loss: 2.3027, Val Acc: 10.00%\n"
     ]
    },
    {
     "name": "stderr",
     "output_type": "stream",
     "text": [
      "Epoch [4/10]: 100%|█████████████████████████████████████████████████████████| 63/63 [00:23<00:00,  2.64it/s, loss=2.31]\n"
     ]
    },
    {
     "name": "stdout",
     "output_type": "stream",
     "text": [
      "Epoch [4/10] - Train Loss: 2.3035, Train Acc: 7.90%, Val Loss: 2.3030, Val Acc: 10.00%\n"
     ]
    },
    {
     "name": "stderr",
     "output_type": "stream",
     "text": [
      "Epoch [5/10]: 100%|██████████████████████████████████████████████████████████| 63/63 [00:14<00:00,  4.32it/s, loss=2.3]\n"
     ]
    },
    {
     "name": "stdout",
     "output_type": "stream",
     "text": [
      "Epoch [5/10] - Train Loss: 2.3032, Train Acc: 9.30%, Val Loss: 2.3030, Val Acc: 10.00%\n"
     ]
    },
    {
     "name": "stderr",
     "output_type": "stream",
     "text": [
      "Epoch [6/10]: 100%|██████████████████████████████████████████████████████████| 63/63 [00:20<00:00,  3.00it/s, loss=2.3]\n"
     ]
    },
    {
     "name": "stdout",
     "output_type": "stream",
     "text": [
      "Epoch [6/10] - Train Loss: 2.3029, Train Acc: 10.00%, Val Loss: 2.3029, Val Acc: 10.00%\n"
     ]
    },
    {
     "name": "stderr",
     "output_type": "stream",
     "text": [
      "Epoch [7/10]: 100%|██████████████████████████████████████████████████████████| 63/63 [00:25<00:00,  2.51it/s, loss=2.3]\n"
     ]
    },
    {
     "name": "stdout",
     "output_type": "stream",
     "text": [
      "Epoch [7/10] - Train Loss: 2.3027, Train Acc: 9.50%, Val Loss: 2.3029, Val Acc: 10.00%\n"
     ]
    },
    {
     "name": "stderr",
     "output_type": "stream",
     "text": [
      "Epoch [8/10]: 100%|██████████████████████████████████████████████████████████| 63/63 [00:21<00:00,  2.99it/s, loss=2.3]\n"
     ]
    },
    {
     "name": "stdout",
     "output_type": "stream",
     "text": [
      "Epoch [8/10] - Train Loss: 2.3027, Train Acc: 9.90%, Val Loss: 2.3029, Val Acc: 10.00%\n"
     ]
    },
    {
     "name": "stderr",
     "output_type": "stream",
     "text": [
      "Epoch [9/10]: 100%|██████████████████████████████████████████████████████████| 63/63 [00:15<00:00,  4.09it/s, loss=2.3]\n"
     ]
    },
    {
     "name": "stdout",
     "output_type": "stream",
     "text": [
      "Epoch [9/10] - Train Loss: 2.3027, Train Acc: 10.10%, Val Loss: 2.3029, Val Acc: 10.00%\n"
     ]
    },
    {
     "name": "stderr",
     "output_type": "stream",
     "text": [
      "Epoch [10/10]: 100%|█████████████████████████████████████████████████████████| 63/63 [00:21<00:00,  2.95it/s, loss=2.3]\n"
     ]
    },
    {
     "name": "stdout",
     "output_type": "stream",
     "text": [
      "Epoch [10/10] - Train Loss: 2.3027, Train Acc: 10.30%, Val Loss: 2.3029, Val Acc: 10.00%\n",
      "Best Validation Accuracy: 10.00%\n",
      "Training with optimizer RMSprop and batch size 32\n"
     ]
    },
    {
     "name": "stderr",
     "output_type": "stream",
     "text": [
      "Epoch [1/10]: 100%|█████████████████████████████████████████████████████████| 32/32 [00:17<00:00,  1.82it/s, loss=2.31]\n"
     ]
    },
    {
     "name": "stdout",
     "output_type": "stream",
     "text": [
      "Epoch [1/10] - Train Loss: 2.3041, Train Acc: 8.80%, Val Loss: 2.3002, Val Acc: 10.00%\n"
     ]
    },
    {
     "name": "stderr",
     "output_type": "stream",
     "text": [
      "Epoch [2/10]: 100%|██████████████████████████████████████████████████████████| 32/32 [00:21<00:00,  1.51it/s, loss=2.3]\n"
     ]
    },
    {
     "name": "stdout",
     "output_type": "stream",
     "text": [
      "Epoch [2/10] - Train Loss: 2.3033, Train Acc: 8.80%, Val Loss: 2.3009, Val Acc: 10.00%\n"
     ]
    },
    {
     "name": "stderr",
     "output_type": "stream",
     "text": [
      "Epoch [3/10]: 100%|██████████████████████████████████████████████████████████| 32/32 [00:21<00:00,  1.50it/s, loss=2.3]\n"
     ]
    },
    {
     "name": "stdout",
     "output_type": "stream",
     "text": [
      "Epoch [3/10] - Train Loss: 2.3032, Train Acc: 7.80%, Val Loss: 2.3004, Val Acc: 10.00%\n"
     ]
    },
    {
     "name": "stderr",
     "output_type": "stream",
     "text": [
      "Epoch [4/10]: 100%|█████████████████████████████████████████████████████████| 32/32 [00:16<00:00,  1.96it/s, loss=2.31]\n"
     ]
    },
    {
     "name": "stdout",
     "output_type": "stream",
     "text": [
      "Epoch [4/10] - Train Loss: 2.3032, Train Acc: 7.60%, Val Loss: 2.3013, Val Acc: 10.00%\n"
     ]
    },
    {
     "name": "stderr",
     "output_type": "stream",
     "text": [
      "Epoch [5/10]: 100%|██████████████████████████████████████████████████████████| 32/32 [00:11<00:00,  2.76it/s, loss=2.3]\n"
     ]
    },
    {
     "name": "stdout",
     "output_type": "stream",
     "text": [
      "Epoch [5/10] - Train Loss: 2.3033, Train Acc: 9.10%, Val Loss: 2.3012, Val Acc: 10.00%\n"
     ]
    },
    {
     "name": "stderr",
     "output_type": "stream",
     "text": [
      "Epoch [6/10]: 100%|██████████████████████████████████████████████████████████| 32/32 [00:14<00:00,  2.25it/s, loss=2.3]\n"
     ]
    },
    {
     "name": "stdout",
     "output_type": "stream",
     "text": [
      "Epoch [6/10] - Train Loss: 2.3026, Train Acc: 9.60%, Val Loss: 2.3013, Val Acc: 10.00%\n"
     ]
    },
    {
     "name": "stderr",
     "output_type": "stream",
     "text": [
      "Epoch [7/10]: 100%|██████████████████████████████████████████████████████████| 32/32 [00:18<00:00,  1.73it/s, loss=2.3]\n"
     ]
    },
    {
     "name": "stdout",
     "output_type": "stream",
     "text": [
      "Epoch [7/10] - Train Loss: 2.3026, Train Acc: 10.10%, Val Loss: 2.3013, Val Acc: 10.00%\n"
     ]
    },
    {
     "name": "stderr",
     "output_type": "stream",
     "text": [
      "Epoch [8/10]: 100%|█████████████████████████████████████████████████████████| 32/32 [00:21<00:00,  1.49it/s, loss=2.31]\n"
     ]
    },
    {
     "name": "stdout",
     "output_type": "stream",
     "text": [
      "Epoch [8/10] - Train Loss: 2.3027, Train Acc: 10.10%, Val Loss: 2.3013, Val Acc: 10.00%\n"
     ]
    },
    {
     "name": "stderr",
     "output_type": "stream",
     "text": [
      "Epoch [9/10]: 100%|██████████████████████████████████████████████████████████| 32/32 [00:19<00:00,  1.62it/s, loss=2.3]\n"
     ]
    },
    {
     "name": "stdout",
     "output_type": "stream",
     "text": [
      "Epoch [9/10] - Train Loss: 2.3026, Train Acc: 9.60%, Val Loss: 2.3013, Val Acc: 10.00%\n"
     ]
    },
    {
     "name": "stderr",
     "output_type": "stream",
     "text": [
      "Epoch [10/10]: 100%|█████████████████████████████████████████████████████████| 32/32 [00:15<00:00,  2.03it/s, loss=2.3]\n"
     ]
    },
    {
     "name": "stdout",
     "output_type": "stream",
     "text": [
      "Epoch [10/10] - Train Loss: 2.3027, Train Acc: 9.60%, Val Loss: 2.3014, Val Acc: 10.00%\n",
      "Best Validation Accuracy: 10.00%\n",
      "Training with optimizer AdamW and batch size 8\n"
     ]
    },
    {
     "name": "stderr",
     "output_type": "stream",
     "text": [
      "Epoch [1/10]: 100%|████████████████████████████████████████████████████████| 125/125 [00:26<00:00,  4.67it/s, loss=2.3]\n"
     ]
    },
    {
     "name": "stdout",
     "output_type": "stream",
     "text": [
      "Epoch [1/10] - Train Loss: 2.3036, Train Acc: 8.80%, Val Loss: 2.3030, Val Acc: 10.00%\n"
     ]
    },
    {
     "name": "stderr",
     "output_type": "stream",
     "text": [
      "Epoch [2/10]: 100%|███████████████████████████████████████████████████████| 125/125 [00:29<00:00,  4.29it/s, loss=2.31]\n"
     ]
    },
    {
     "name": "stdout",
     "output_type": "stream",
     "text": [
      "Epoch [2/10] - Train Loss: 2.3035, Train Acc: 8.50%, Val Loss: 2.3024, Val Acc: 10.00%\n"
     ]
    },
    {
     "name": "stderr",
     "output_type": "stream",
     "text": [
      "Epoch [3/10]: 100%|████████████████████████████████████████████████████████| 125/125 [00:26<00:00,  4.72it/s, loss=2.3]\n"
     ]
    },
    {
     "name": "stdout",
     "output_type": "stream",
     "text": [
      "Epoch [3/10] - Train Loss: 2.3034, Train Acc: 7.80%, Val Loss: 2.3026, Val Acc: 10.00%\n"
     ]
    },
    {
     "name": "stderr",
     "output_type": "stream",
     "text": [
      "Epoch [4/10]: 100%|███████████████████████████████████████████████████████| 125/125 [00:29<00:00,  4.29it/s, loss=2.31]\n"
     ]
    },
    {
     "name": "stdout",
     "output_type": "stream",
     "text": [
      "Epoch [4/10] - Train Loss: 2.3035, Train Acc: 9.00%, Val Loss: 2.3028, Val Acc: 10.00%\n"
     ]
    },
    {
     "name": "stderr",
     "output_type": "stream",
     "text": [
      "Epoch [5/10]: 100%|████████████████████████████████████████████████████████| 125/125 [00:27<00:00,  4.59it/s, loss=2.3]\n"
     ]
    },
    {
     "name": "stdout",
     "output_type": "stream",
     "text": [
      "Epoch [5/10] - Train Loss: 2.3034, Train Acc: 9.60%, Val Loss: 2.3025, Val Acc: 10.00%\n"
     ]
    },
    {
     "name": "stderr",
     "output_type": "stream",
     "text": [
      "Epoch [6/10]: 100%|████████████████████████████████████████████████████████| 125/125 [00:27<00:00,  4.49it/s, loss=2.3]\n"
     ]
    },
    {
     "name": "stdout",
     "output_type": "stream",
     "text": [
      "Epoch [6/10] - Train Loss: 2.3027, Train Acc: 9.40%, Val Loss: 2.3025, Val Acc: 10.00%\n"
     ]
    },
    {
     "name": "stderr",
     "output_type": "stream",
     "text": [
      "Epoch [7/10]: 100%|███████████████████████████████████████████████████████| 125/125 [00:30<00:00,  4.16it/s, loss=2.31]\n"
     ]
    },
    {
     "name": "stdout",
     "output_type": "stream",
     "text": [
      "Epoch [7/10] - Train Loss: 2.3026, Train Acc: 9.90%, Val Loss: 2.3025, Val Acc: 10.00%\n"
     ]
    },
    {
     "name": "stderr",
     "output_type": "stream",
     "text": [
      "Epoch [8/10]: 100%|████████████████████████████████████████████████████████| 125/125 [00:21<00:00,  5.75it/s, loss=2.3]\n"
     ]
    },
    {
     "name": "stdout",
     "output_type": "stream",
     "text": [
      "Epoch [8/10] - Train Loss: 2.3026, Train Acc: 9.90%, Val Loss: 2.3025, Val Acc: 10.00%\n"
     ]
    },
    {
     "name": "stderr",
     "output_type": "stream",
     "text": [
      "Epoch [9/10]: 100%|████████████████████████████████████████████████████████| 125/125 [00:17<00:00,  7.08it/s, loss=2.3]\n"
     ]
    },
    {
     "name": "stdout",
     "output_type": "stream",
     "text": [
      "Epoch [9/10] - Train Loss: 2.3027, Train Acc: 9.10%, Val Loss: 2.3025, Val Acc: 10.00%\n"
     ]
    },
    {
     "name": "stderr",
     "output_type": "stream",
     "text": [
      "Epoch [10/10]: 100%|███████████████████████████████████████████████████████| 125/125 [00:17<00:00,  7.11it/s, loss=2.3]\n"
     ]
    },
    {
     "name": "stdout",
     "output_type": "stream",
     "text": [
      "Epoch [10/10] - Train Loss: 2.3028, Train Acc: 10.20%, Val Loss: 2.3025, Val Acc: 10.00%\n",
      "Best Validation Accuracy: 10.00%\n",
      "Training with optimizer AdamW and batch size 16\n"
     ]
    },
    {
     "name": "stderr",
     "output_type": "stream",
     "text": [
      "Epoch [1/10]: 100%|██████████████████████████████████████████████████████████| 63/63 [00:13<00:00,  4.66it/s, loss=2.3]\n"
     ]
    },
    {
     "name": "stdout",
     "output_type": "stream",
     "text": [
      "Epoch [1/10] - Train Loss: 2.3032, Train Acc: 10.10%, Val Loss: 2.3029, Val Acc: 10.00%\n"
     ]
    },
    {
     "name": "stderr",
     "output_type": "stream",
     "text": [
      "Epoch [2/10]: 100%|██████████████████████████████████████████████████████████| 63/63 [00:13<00:00,  4.72it/s, loss=2.3]\n"
     ]
    },
    {
     "name": "stdout",
     "output_type": "stream",
     "text": [
      "Epoch [2/10] - Train Loss: 2.3032, Train Acc: 9.00%, Val Loss: 2.3026, Val Acc: 10.00%\n"
     ]
    },
    {
     "name": "stderr",
     "output_type": "stream",
     "text": [
      "Epoch [3/10]: 100%|█████████████████████████████████████████████████████████| 63/63 [00:13<00:00,  4.75it/s, loss=2.31]\n"
     ]
    },
    {
     "name": "stdout",
     "output_type": "stream",
     "text": [
      "Epoch [3/10] - Train Loss: 2.3032, Train Acc: 9.40%, Val Loss: 2.3031, Val Acc: 10.00%\n"
     ]
    },
    {
     "name": "stderr",
     "output_type": "stream",
     "text": [
      "Epoch [4/10]: 100%|██████████████████████████████████████████████████████████| 63/63 [00:13<00:00,  4.70it/s, loss=2.3]\n"
     ]
    },
    {
     "name": "stdout",
     "output_type": "stream",
     "text": [
      "Epoch [4/10] - Train Loss: 2.3030, Train Acc: 9.10%, Val Loss: 2.3031, Val Acc: 10.00%\n"
     ]
    },
    {
     "name": "stderr",
     "output_type": "stream",
     "text": [
      "Epoch [5/10]: 100%|██████████████████████████████████████████████████████████| 63/63 [00:13<00:00,  4.72it/s, loss=2.3]\n"
     ]
    },
    {
     "name": "stdout",
     "output_type": "stream",
     "text": [
      "Epoch [5/10] - Train Loss: 2.3031, Train Acc: 7.80%, Val Loss: 2.3026, Val Acc: 10.00%\n"
     ]
    },
    {
     "name": "stderr",
     "output_type": "stream",
     "text": [
      "Epoch [6/10]: 100%|██████████████████████████████████████████████████████████| 63/63 [00:13<00:00,  4.72it/s, loss=2.3]\n"
     ]
    },
    {
     "name": "stdout",
     "output_type": "stream",
     "text": [
      "Epoch [6/10] - Train Loss: 2.3028, Train Acc: 8.80%, Val Loss: 2.3026, Val Acc: 10.00%\n"
     ]
    },
    {
     "name": "stderr",
     "output_type": "stream",
     "text": [
      "Epoch [7/10]: 100%|██████████████████████████████████████████████████████████| 63/63 [00:13<00:00,  4.84it/s, loss=2.3]\n"
     ]
    },
    {
     "name": "stdout",
     "output_type": "stream",
     "text": [
      "Epoch [7/10] - Train Loss: 2.3025, Train Acc: 10.80%, Val Loss: 2.3026, Val Acc: 10.00%\n"
     ]
    },
    {
     "name": "stderr",
     "output_type": "stream",
     "text": [
      "Epoch [8/10]: 100%|██████████████████████████████████████████████████████████| 63/63 [00:12<00:00,  4.91it/s, loss=2.3]\n"
     ]
    },
    {
     "name": "stdout",
     "output_type": "stream",
     "text": [
      "Epoch [8/10] - Train Loss: 2.3026, Train Acc: 9.80%, Val Loss: 2.3026, Val Acc: 10.00%\n"
     ]
    },
    {
     "name": "stderr",
     "output_type": "stream",
     "text": [
      "Epoch [9/10]: 100%|██████████████████████████████████████████████████████████| 63/63 [00:12<00:00,  4.86it/s, loss=2.3]\n"
     ]
    },
    {
     "name": "stdout",
     "output_type": "stream",
     "text": [
      "Epoch [9/10] - Train Loss: 2.3029, Train Acc: 9.20%, Val Loss: 2.3026, Val Acc: 10.00%\n"
     ]
    },
    {
     "name": "stderr",
     "output_type": "stream",
     "text": [
      "Epoch [10/10]: 100%|█████████████████████████████████████████████████████████| 63/63 [00:12<00:00,  4.87it/s, loss=2.3]\n"
     ]
    },
    {
     "name": "stdout",
     "output_type": "stream",
     "text": [
      "Epoch [10/10] - Train Loss: 2.3026, Train Acc: 9.20%, Val Loss: 2.3026, Val Acc: 10.00%\n",
      "Best Validation Accuracy: 10.00%\n",
      "Training with optimizer AdamW and batch size 32\n"
     ]
    },
    {
     "name": "stderr",
     "output_type": "stream",
     "text": [
      "Epoch [1/10]: 100%|██████████████████████████████████████████████████████████| 32/32 [00:11<00:00,  2.90it/s, loss=2.3]\n"
     ]
    },
    {
     "name": "stdout",
     "output_type": "stream",
     "text": [
      "Epoch [1/10] - Train Loss: 2.3033, Train Acc: 9.30%, Val Loss: 2.3005, Val Acc: 10.00%\n"
     ]
    },
    {
     "name": "stderr",
     "output_type": "stream",
     "text": [
      "Epoch [2/10]: 100%|█████████████████████████████████████████████████████████| 32/32 [00:10<00:00,  2.92it/s, loss=2.31]\n"
     ]
    },
    {
     "name": "stdout",
     "output_type": "stream",
     "text": [
      "Epoch [2/10] - Train Loss: 2.3029, Train Acc: 9.90%, Val Loss: 2.3005, Val Acc: 10.00%\n"
     ]
    },
    {
     "name": "stderr",
     "output_type": "stream",
     "text": [
      "Epoch [3/10]: 100%|██████████████████████████████████████████████████████████| 32/32 [00:10<00:00,  2.92it/s, loss=2.3]\n"
     ]
    },
    {
     "name": "stdout",
     "output_type": "stream",
     "text": [
      "Epoch [3/10] - Train Loss: 2.3030, Train Acc: 9.80%, Val Loss: 2.3016, Val Acc: 10.00%\n"
     ]
    },
    {
     "name": "stderr",
     "output_type": "stream",
     "text": [
      "Epoch [4/10]: 100%|█████████████████████████████████████████████████████████| 32/32 [00:11<00:00,  2.91it/s, loss=2.31]\n"
     ]
    },
    {
     "name": "stdout",
     "output_type": "stream",
     "text": [
      "Epoch [4/10] - Train Loss: 2.3030, Train Acc: 9.10%, Val Loss: 2.3021, Val Acc: 10.00%\n"
     ]
    },
    {
     "name": "stderr",
     "output_type": "stream",
     "text": [
      "Epoch [5/10]: 100%|█████████████████████████████████████████████████████████| 32/32 [00:10<00:00,  2.97it/s, loss=2.31]\n"
     ]
    },
    {
     "name": "stdout",
     "output_type": "stream",
     "text": [
      "Epoch [5/10] - Train Loss: 2.3030, Train Acc: 8.70%, Val Loss: 2.3026, Val Acc: 10.00%\n"
     ]
    },
    {
     "name": "stderr",
     "output_type": "stream",
     "text": [
      "Epoch [6/10]: 100%|██████████████████████████████████████████████████████████| 32/32 [00:10<00:00,  2.94it/s, loss=2.3]\n"
     ]
    },
    {
     "name": "stdout",
     "output_type": "stream",
     "text": [
      "Epoch [6/10] - Train Loss: 2.3027, Train Acc: 9.30%, Val Loss: 2.3026, Val Acc: 10.00%\n"
     ]
    },
    {
     "name": "stderr",
     "output_type": "stream",
     "text": [
      "Epoch [7/10]: 100%|██████████████████████████████████████████████████████████| 32/32 [00:11<00:00,  2.89it/s, loss=2.3]\n"
     ]
    },
    {
     "name": "stdout",
     "output_type": "stream",
     "text": [
      "Epoch [7/10] - Train Loss: 2.3026, Train Acc: 10.80%, Val Loss: 2.3025, Val Acc: 10.00%\n"
     ]
    },
    {
     "name": "stderr",
     "output_type": "stream",
     "text": [
      "Epoch [8/10]: 100%|██████████████████████████████████████████████████████████| 32/32 [00:10<00:00,  2.93it/s, loss=2.3]\n"
     ]
    },
    {
     "name": "stdout",
     "output_type": "stream",
     "text": [
      "Epoch [8/10] - Train Loss: 2.3026, Train Acc: 9.20%, Val Loss: 2.3024, Val Acc: 10.00%\n"
     ]
    },
    {
     "name": "stderr",
     "output_type": "stream",
     "text": [
      "Epoch [9/10]: 100%|██████████████████████████████████████████████████████████| 32/32 [00:10<00:00,  2.93it/s, loss=2.3]\n"
     ]
    },
    {
     "name": "stdout",
     "output_type": "stream",
     "text": [
      "Epoch [9/10] - Train Loss: 2.3027, Train Acc: 8.70%, Val Loss: 2.3025, Val Acc: 10.00%\n"
     ]
    },
    {
     "name": "stderr",
     "output_type": "stream",
     "text": [
      "Epoch [10/10]: 100%|████████████████████████████████████████████████████████| 32/32 [00:10<00:00,  2.95it/s, loss=2.31]\n"
     ]
    },
    {
     "name": "stdout",
     "output_type": "stream",
     "text": [
      "Epoch [10/10] - Train Loss: 2.3025, Train Acc: 10.50%, Val Loss: 2.3025, Val Acc: 10.00%\n",
      "Best Validation Accuracy: 10.00%\n",
      "Training with optimizer Adamax and batch size 8\n"
     ]
    },
    {
     "name": "stderr",
     "output_type": "stream",
     "text": [
      "Epoch [1/10]: 100%|████████████████████████████████████████████████████████| 125/125 [00:16<00:00,  7.60it/s, loss=2.3]\n"
     ]
    },
    {
     "name": "stdout",
     "output_type": "stream",
     "text": [
      "Epoch [1/10] - Train Loss: 2.3034, Train Acc: 9.00%, Val Loss: 2.3028, Val Acc: 10.00%\n"
     ]
    },
    {
     "name": "stderr",
     "output_type": "stream",
     "text": [
      "Epoch [2/10]: 100%|███████████████████████████████████████████████████████| 125/125 [00:16<00:00,  7.58it/s, loss=2.31]\n"
     ]
    },
    {
     "name": "stdout",
     "output_type": "stream",
     "text": [
      "Epoch [2/10] - Train Loss: 2.3030, Train Acc: 9.90%, Val Loss: 2.3030, Val Acc: 10.00%\n"
     ]
    },
    {
     "name": "stderr",
     "output_type": "stream",
     "text": [
      "Epoch [3/10]: 100%|████████████████████████████████████████████████████████| 125/125 [00:16<00:00,  7.69it/s, loss=2.3]\n"
     ]
    },
    {
     "name": "stdout",
     "output_type": "stream",
     "text": [
      "Epoch [3/10] - Train Loss: 2.3031, Train Acc: 10.60%, Val Loss: 2.3029, Val Acc: 10.00%\n"
     ]
    },
    {
     "name": "stderr",
     "output_type": "stream",
     "text": [
      "Epoch [4/10]: 100%|████████████████████████████████████████████████████████| 125/125 [00:16<00:00,  7.53it/s, loss=2.3]\n"
     ]
    },
    {
     "name": "stdout",
     "output_type": "stream",
     "text": [
      "Epoch [4/10] - Train Loss: 2.3032, Train Acc: 9.50%, Val Loss: 2.3029, Val Acc: 10.00%\n"
     ]
    },
    {
     "name": "stderr",
     "output_type": "stream",
     "text": [
      "Epoch [5/10]: 100%|███████████████████████████████████████████████████████| 125/125 [00:16<00:00,  7.48it/s, loss=2.31]\n"
     ]
    },
    {
     "name": "stdout",
     "output_type": "stream",
     "text": [
      "Epoch [5/10] - Train Loss: 2.3029, Train Acc: 9.70%, Val Loss: 2.3029, Val Acc: 10.00%\n"
     ]
    },
    {
     "name": "stderr",
     "output_type": "stream",
     "text": [
      "Epoch [6/10]: 100%|███████████████████████████████████████████████████████| 125/125 [00:16<00:00,  7.43it/s, loss=2.29]\n"
     ]
    },
    {
     "name": "stdout",
     "output_type": "stream",
     "text": [
      "Epoch [6/10] - Train Loss: 2.3028, Train Acc: 10.00%, Val Loss: 2.3029, Val Acc: 10.00%\n"
     ]
    },
    {
     "name": "stderr",
     "output_type": "stream",
     "text": [
      "Epoch [7/10]: 100%|███████████████████████████████████████████████████████| 125/125 [00:16<00:00,  7.50it/s, loss=2.31]\n"
     ]
    },
    {
     "name": "stdout",
     "output_type": "stream",
     "text": [
      "Epoch [7/10] - Train Loss: 2.3025, Train Acc: 9.90%, Val Loss: 2.3029, Val Acc: 10.00%\n"
     ]
    },
    {
     "name": "stderr",
     "output_type": "stream",
     "text": [
      "Epoch [8/10]: 100%|████████████████████████████████████████████████████████| 125/125 [00:16<00:00,  7.46it/s, loss=2.3]\n"
     ]
    },
    {
     "name": "stdout",
     "output_type": "stream",
     "text": [
      "Epoch [8/10] - Train Loss: 2.3026, Train Acc: 10.50%, Val Loss: 2.3029, Val Acc: 10.00%\n"
     ]
    },
    {
     "name": "stderr",
     "output_type": "stream",
     "text": [
      "Epoch [9/10]: 100%|███████████████████████████████████████████████████████| 125/125 [00:16<00:00,  7.54it/s, loss=2.31]\n"
     ]
    },
    {
     "name": "stdout",
     "output_type": "stream",
     "text": [
      "Epoch [9/10] - Train Loss: 2.3025, Train Acc: 9.60%, Val Loss: 2.3029, Val Acc: 10.00%\n"
     ]
    },
    {
     "name": "stderr",
     "output_type": "stream",
     "text": [
      "Epoch [10/10]: 100%|███████████████████████████████████████████████████████| 125/125 [00:16<00:00,  7.51it/s, loss=2.3]\n"
     ]
    },
    {
     "name": "stdout",
     "output_type": "stream",
     "text": [
      "Epoch [10/10] - Train Loss: 2.3027, Train Acc: 9.60%, Val Loss: 2.3029, Val Acc: 10.00%\n",
      "Best Validation Accuracy: 10.00%\n",
      "Training with optimizer Adamax and batch size 16\n"
     ]
    },
    {
     "name": "stderr",
     "output_type": "stream",
     "text": [
      "Epoch [1/10]: 100%|█████████████████████████████████████████████████████████| 63/63 [00:12<00:00,  5.04it/s, loss=2.31]\n"
     ]
    },
    {
     "name": "stdout",
     "output_type": "stream",
     "text": [
      "Epoch [1/10] - Train Loss: 2.3032, Train Acc: 10.60%, Val Loss: 2.3021, Val Acc: 10.00%\n"
     ]
    },
    {
     "name": "stderr",
     "output_type": "stream",
     "text": [
      "Epoch [2/10]: 100%|██████████████████████████████████████████████████████████| 63/63 [00:12<00:00,  5.09it/s, loss=2.3]\n"
     ]
    },
    {
     "name": "stdout",
     "output_type": "stream",
     "text": [
      "Epoch [2/10] - Train Loss: 2.3030, Train Acc: 9.20%, Val Loss: 2.3028, Val Acc: 10.00%\n"
     ]
    },
    {
     "name": "stderr",
     "output_type": "stream",
     "text": [
      "Epoch [3/10]: 100%|█████████████████████████████████████████████████████████| 63/63 [00:12<00:00,  5.05it/s, loss=2.31]\n"
     ]
    },
    {
     "name": "stdout",
     "output_type": "stream",
     "text": [
      "Epoch [3/10] - Train Loss: 2.3029, Train Acc: 10.10%, Val Loss: 2.3030, Val Acc: 10.00%\n"
     ]
    },
    {
     "name": "stderr",
     "output_type": "stream",
     "text": [
      "Epoch [4/10]: 100%|█████████████████████████████████████████████████████████| 63/63 [00:12<00:00,  5.01it/s, loss=2.31]\n"
     ]
    },
    {
     "name": "stdout",
     "output_type": "stream",
     "text": [
      "Epoch [4/10] - Train Loss: 2.3028, Train Acc: 10.40%, Val Loss: 2.3024, Val Acc: 10.00%\n"
     ]
    },
    {
     "name": "stderr",
     "output_type": "stream",
     "text": [
      "Epoch [5/10]: 100%|█████████████████████████████████████████████████████████| 63/63 [00:12<00:00,  4.96it/s, loss=2.31]\n"
     ]
    },
    {
     "name": "stdout",
     "output_type": "stream",
     "text": [
      "Epoch [5/10] - Train Loss: 2.3029, Train Acc: 9.50%, Val Loss: 2.3026, Val Acc: 10.00%\n"
     ]
    },
    {
     "name": "stderr",
     "output_type": "stream",
     "text": [
      "Epoch [6/10]: 100%|██████████████████████████████████████████████████████████| 63/63 [00:12<00:00,  4.89it/s, loss=2.3]\n"
     ]
    },
    {
     "name": "stdout",
     "output_type": "stream",
     "text": [
      "Epoch [6/10] - Train Loss: 2.3024, Train Acc: 11.30%, Val Loss: 2.3025, Val Acc: 10.00%\n"
     ]
    },
    {
     "name": "stderr",
     "output_type": "stream",
     "text": [
      "Epoch [7/10]: 100%|██████████████████████████████████████████████████████████| 63/63 [00:12<00:00,  5.03it/s, loss=2.3]\n"
     ]
    },
    {
     "name": "stdout",
     "output_type": "stream",
     "text": [
      "Epoch [7/10] - Train Loss: 2.3026, Train Acc: 9.60%, Val Loss: 2.3025, Val Acc: 10.00%\n"
     ]
    },
    {
     "name": "stderr",
     "output_type": "stream",
     "text": [
      "Epoch [8/10]: 100%|██████████████████████████████████████████████████████████| 63/63 [00:12<00:00,  4.99it/s, loss=2.3]\n"
     ]
    },
    {
     "name": "stdout",
     "output_type": "stream",
     "text": [
      "Epoch [8/10] - Train Loss: 2.3026, Train Acc: 11.50%, Val Loss: 2.3025, Val Acc: 10.00%\n"
     ]
    },
    {
     "name": "stderr",
     "output_type": "stream",
     "text": [
      "Epoch [9/10]: 100%|█████████████████████████████████████████████████████████| 63/63 [00:12<00:00,  5.18it/s, loss=2.31]\n"
     ]
    },
    {
     "name": "stdout",
     "output_type": "stream",
     "text": [
      "Epoch [9/10] - Train Loss: 2.3024, Train Acc: 10.40%, Val Loss: 2.3025, Val Acc: 10.00%\n"
     ]
    },
    {
     "name": "stderr",
     "output_type": "stream",
     "text": [
      "Epoch [10/10]: 100%|█████████████████████████████████████████████████████████| 63/63 [00:12<00:00,  5.13it/s, loss=2.3]\n"
     ]
    },
    {
     "name": "stdout",
     "output_type": "stream",
     "text": [
      "Epoch [10/10] - Train Loss: 2.3026, Train Acc: 10.90%, Val Loss: 2.3026, Val Acc: 10.00%\n",
      "Best Validation Accuracy: 10.00%\n",
      "Training with optimizer Adamax and batch size 32\n"
     ]
    },
    {
     "name": "stderr",
     "output_type": "stream",
     "text": [
      "Epoch [1/10]: 100%|█████████████████████████████████████████████████████████| 32/32 [00:10<00:00,  3.04it/s, loss=2.31]\n"
     ]
    },
    {
     "name": "stdout",
     "output_type": "stream",
     "text": [
      "Epoch [1/10] - Train Loss: 2.3031, Train Acc: 8.70%, Val Loss: 2.3007, Val Acc: 10.00%\n"
     ]
    },
    {
     "name": "stderr",
     "output_type": "stream",
     "text": [
      "Epoch [2/10]: 100%|█████████████████████████████████████████████████████████| 32/32 [00:10<00:00,  3.11it/s, loss=2.31]\n"
     ]
    },
    {
     "name": "stdout",
     "output_type": "stream",
     "text": [
      "Epoch [2/10] - Train Loss: 2.3030, Train Acc: 10.20%, Val Loss: 2.3007, Val Acc: 10.00%\n"
     ]
    },
    {
     "name": "stderr",
     "output_type": "stream",
     "text": [
      "Epoch [3/10]: 100%|██████████████████████████████████████████████████████████| 32/32 [00:10<00:00,  3.05it/s, loss=2.3]\n"
     ]
    },
    {
     "name": "stdout",
     "output_type": "stream",
     "text": [
      "Epoch [3/10] - Train Loss: 2.3027, Train Acc: 10.40%, Val Loss: 2.3016, Val Acc: 10.00%\n"
     ]
    },
    {
     "name": "stderr",
     "output_type": "stream",
     "text": [
      "Epoch [4/10]: 100%|██████████████████████████████████████████████████████████| 32/32 [00:10<00:00,  3.09it/s, loss=2.3]\n"
     ]
    },
    {
     "name": "stdout",
     "output_type": "stream",
     "text": [
      "Epoch [4/10] - Train Loss: 2.3029, Train Acc: 8.50%, Val Loss: 2.3017, Val Acc: 10.00%\n"
     ]
    },
    {
     "name": "stderr",
     "output_type": "stream",
     "text": [
      "Epoch [5/10]: 100%|█████████████████████████████████████████████████████████| 32/32 [00:10<00:00,  3.07it/s, loss=2.31]\n"
     ]
    },
    {
     "name": "stdout",
     "output_type": "stream",
     "text": [
      "Epoch [5/10] - Train Loss: 2.3030, Train Acc: 9.60%, Val Loss: 2.3027, Val Acc: 10.00%\n"
     ]
    },
    {
     "name": "stderr",
     "output_type": "stream",
     "text": [
      "Epoch [6/10]: 100%|██████████████████████████████████████████████████████████| 32/32 [00:10<00:00,  3.13it/s, loss=2.3]\n"
     ]
    },
    {
     "name": "stdout",
     "output_type": "stream",
     "text": [
      "Epoch [6/10] - Train Loss: 2.3025, Train Acc: 10.10%, Val Loss: 2.3026, Val Acc: 10.00%\n"
     ]
    },
    {
     "name": "stderr",
     "output_type": "stream",
     "text": [
      "Epoch [7/10]: 100%|██████████████████████████████████████████████████████████| 32/32 [00:10<00:00,  3.10it/s, loss=2.3]\n"
     ]
    },
    {
     "name": "stdout",
     "output_type": "stream",
     "text": [
      "Epoch [7/10] - Train Loss: 2.3027, Train Acc: 8.20%, Val Loss: 2.3027, Val Acc: 10.00%\n"
     ]
    },
    {
     "name": "stderr",
     "output_type": "stream",
     "text": [
      "Epoch [8/10]: 100%|██████████████████████████████████████████████████████████| 32/32 [00:10<00:00,  3.11it/s, loss=2.3]\n"
     ]
    },
    {
     "name": "stdout",
     "output_type": "stream",
     "text": [
      "Epoch [8/10] - Train Loss: 2.3028, Train Acc: 9.20%, Val Loss: 2.3026, Val Acc: 10.00%\n"
     ]
    },
    {
     "name": "stderr",
     "output_type": "stream",
     "text": [
      "Epoch [9/10]: 100%|██████████████████████████████████████████████████████████| 32/32 [00:10<00:00,  3.09it/s, loss=2.3]\n"
     ]
    },
    {
     "name": "stdout",
     "output_type": "stream",
     "text": [
      "Epoch [9/10] - Train Loss: 2.3025, Train Acc: 11.60%, Val Loss: 2.3026, Val Acc: 10.00%\n"
     ]
    },
    {
     "name": "stderr",
     "output_type": "stream",
     "text": [
      "Epoch [10/10]: 100%|█████████████████████████████████████████████████████████| 32/32 [00:10<00:00,  3.11it/s, loss=2.3]\n"
     ]
    },
    {
     "name": "stdout",
     "output_type": "stream",
     "text": [
      "Epoch [10/10] - Train Loss: 2.3027, Train Acc: 9.50%, Val Loss: 2.3026, Val Acc: 10.00%\n",
      "Best Validation Accuracy: 10.00%\n",
      "Training with optimizer RAdam and batch size 8\n"
     ]
    },
    {
     "name": "stderr",
     "output_type": "stream",
     "text": [
      "Epoch [1/10]: 100%|████████████████████████████████████████████████████████| 125/125 [00:17<00:00,  7.09it/s, loss=2.3]\n"
     ]
    },
    {
     "name": "stdout",
     "output_type": "stream",
     "text": [
      "Epoch [1/10] - Train Loss: 2.3028, Train Acc: 9.60%, Val Loss: 2.3021, Val Acc: 10.00%\n"
     ]
    },
    {
     "name": "stderr",
     "output_type": "stream",
     "text": [
      "Epoch [2/10]: 100%|████████████████████████████████████████████████████████| 125/125 [00:17<00:00,  7.08it/s, loss=2.3]\n"
     ]
    },
    {
     "name": "stdout",
     "output_type": "stream",
     "text": [
      "Epoch [2/10] - Train Loss: 2.3028, Train Acc: 10.10%, Val Loss: 2.3021, Val Acc: 10.00%\n"
     ]
    },
    {
     "name": "stderr",
     "output_type": "stream",
     "text": [
      "Epoch [3/10]: 100%|███████████████████████████████████████████████████████| 125/125 [00:17<00:00,  7.14it/s, loss=2.29]\n"
     ]
    },
    {
     "name": "stdout",
     "output_type": "stream",
     "text": [
      "Epoch [3/10] - Train Loss: 2.3029, Train Acc: 10.00%, Val Loss: 2.3022, Val Acc: 10.00%\n"
     ]
    },
    {
     "name": "stderr",
     "output_type": "stream",
     "text": [
      "Epoch [4/10]: 100%|████████████████████████████████████████████████████████| 125/125 [00:17<00:00,  7.17it/s, loss=2.3]\n"
     ]
    },
    {
     "name": "stdout",
     "output_type": "stream",
     "text": [
      "Epoch [4/10] - Train Loss: 2.3031, Train Acc: 8.70%, Val Loss: 2.3023, Val Acc: 10.00%\n"
     ]
    },
    {
     "name": "stderr",
     "output_type": "stream",
     "text": [
      "Epoch [5/10]: 100%|███████████████████████████████████████████████████████| 125/125 [00:17<00:00,  7.22it/s, loss=2.31]\n"
     ]
    },
    {
     "name": "stdout",
     "output_type": "stream",
     "text": [
      "Epoch [5/10] - Train Loss: 2.3029, Train Acc: 10.30%, Val Loss: 2.3024, Val Acc: 10.00%\n"
     ]
    },
    {
     "name": "stderr",
     "output_type": "stream",
     "text": [
      "Epoch [6/10]: 100%|████████████████████████████████████████████████████████| 125/125 [00:17<00:00,  7.02it/s, loss=2.3]\n"
     ]
    },
    {
     "name": "stdout",
     "output_type": "stream",
     "text": [
      "Epoch [6/10] - Train Loss: 2.3026, Train Acc: 9.70%, Val Loss: 2.3024, Val Acc: 10.00%\n"
     ]
    },
    {
     "name": "stderr",
     "output_type": "stream",
     "text": [
      "Epoch [7/10]: 100%|████████████████████████████████████████████████████████| 125/125 [00:17<00:00,  7.03it/s, loss=2.3]\n"
     ]
    },
    {
     "name": "stdout",
     "output_type": "stream",
     "text": [
      "Epoch [7/10] - Train Loss: 2.3029, Train Acc: 10.50%, Val Loss: 2.3024, Val Acc: 10.00%\n"
     ]
    },
    {
     "name": "stderr",
     "output_type": "stream",
     "text": [
      "Epoch [8/10]: 100%|████████████████████████████████████████████████████████| 125/125 [00:17<00:00,  7.07it/s, loss=2.3]\n"
     ]
    },
    {
     "name": "stdout",
     "output_type": "stream",
     "text": [
      "Epoch [8/10] - Train Loss: 2.3026, Train Acc: 10.30%, Val Loss: 2.3024, Val Acc: 10.00%\n"
     ]
    },
    {
     "name": "stderr",
     "output_type": "stream",
     "text": [
      "Epoch [9/10]: 100%|████████████████████████████████████████████████████████| 125/125 [00:17<00:00,  7.04it/s, loss=2.3]\n"
     ]
    },
    {
     "name": "stdout",
     "output_type": "stream",
     "text": [
      "Epoch [9/10] - Train Loss: 2.3027, Train Acc: 9.70%, Val Loss: 2.3024, Val Acc: 10.00%\n"
     ]
    },
    {
     "name": "stderr",
     "output_type": "stream",
     "text": [
      "Epoch [10/10]: 100%|███████████████████████████████████████████████████████| 125/125 [00:17<00:00,  6.99it/s, loss=2.3]\n"
     ]
    },
    {
     "name": "stdout",
     "output_type": "stream",
     "text": [
      "Epoch [10/10] - Train Loss: 2.3026, Train Acc: 10.10%, Val Loss: 2.3024, Val Acc: 10.00%\n",
      "Best Validation Accuracy: 10.00%\n",
      "Training with optimizer RAdam and batch size 16\n"
     ]
    },
    {
     "name": "stderr",
     "output_type": "stream",
     "text": [
      "Epoch [1/10]: 100%|██████████████████████████████████████████████████████████| 63/63 [00:13<00:00,  4.77it/s, loss=2.3]\n"
     ]
    },
    {
     "name": "stdout",
     "output_type": "stream",
     "text": [
      "Epoch [1/10] - Train Loss: 2.3026, Train Acc: 9.90%, Val Loss: 2.3013, Val Acc: 10.00%\n"
     ]
    },
    {
     "name": "stderr",
     "output_type": "stream",
     "text": [
      "Epoch [2/10]: 100%|██████████████████████████████████████████████████████████| 63/63 [00:13<00:00,  4.79it/s, loss=2.3]\n"
     ]
    },
    {
     "name": "stdout",
     "output_type": "stream",
     "text": [
      "Epoch [2/10] - Train Loss: 2.3025, Train Acc: 11.60%, Val Loss: 2.3012, Val Acc: 10.00%\n"
     ]
    },
    {
     "name": "stderr",
     "output_type": "stream",
     "text": [
      "Epoch [3/10]: 100%|██████████████████████████████████████████████████████████| 63/63 [00:13<00:00,  4.79it/s, loss=2.3]\n"
     ]
    },
    {
     "name": "stdout",
     "output_type": "stream",
     "text": [
      "Epoch [3/10] - Train Loss: 2.3027, Train Acc: 8.60%, Val Loss: 2.3012, Val Acc: 10.00%\n"
     ]
    },
    {
     "name": "stderr",
     "output_type": "stream",
     "text": [
      "Epoch [4/10]: 100%|█████████████████████████████████████████████████████████| 63/63 [00:13<00:00,  4.79it/s, loss=2.31]\n"
     ]
    },
    {
     "name": "stdout",
     "output_type": "stream",
     "text": [
      "Epoch [4/10] - Train Loss: 2.3027, Train Acc: 9.20%, Val Loss: 2.3013, Val Acc: 10.00%\n"
     ]
    },
    {
     "name": "stderr",
     "output_type": "stream",
     "text": [
      "Epoch [5/10]: 100%|██████████████████████████████████████████████████████████| 63/63 [00:13<00:00,  4.80it/s, loss=2.3]\n"
     ]
    },
    {
     "name": "stdout",
     "output_type": "stream",
     "text": [
      "Epoch [5/10] - Train Loss: 2.3027, Train Acc: 11.20%, Val Loss: 2.3016, Val Acc: 10.00%\n"
     ]
    },
    {
     "name": "stderr",
     "output_type": "stream",
     "text": [
      "Epoch [6/10]: 100%|██████████████████████████████████████████████████████████| 63/63 [00:13<00:00,  4.77it/s, loss=2.3]\n"
     ]
    },
    {
     "name": "stdout",
     "output_type": "stream",
     "text": [
      "Epoch [6/10] - Train Loss: 2.3027, Train Acc: 9.90%, Val Loss: 2.3016, Val Acc: 10.00%\n"
     ]
    },
    {
     "name": "stderr",
     "output_type": "stream",
     "text": [
      "Epoch [7/10]: 100%|██████████████████████████████████████████████████████████| 63/63 [00:13<00:00,  4.82it/s, loss=2.3]\n"
     ]
    },
    {
     "name": "stdout",
     "output_type": "stream",
     "text": [
      "Epoch [7/10] - Train Loss: 2.3025, Train Acc: 11.50%, Val Loss: 2.3016, Val Acc: 10.00%\n"
     ]
    },
    {
     "name": "stderr",
     "output_type": "stream",
     "text": [
      "Epoch [8/10]: 100%|██████████████████████████████████████████████████████████| 63/63 [00:13<00:00,  4.72it/s, loss=2.3]\n"
     ]
    },
    {
     "name": "stdout",
     "output_type": "stream",
     "text": [
      "Epoch [8/10] - Train Loss: 2.3028, Train Acc: 9.50%, Val Loss: 2.3017, Val Acc: 10.00%\n"
     ]
    },
    {
     "name": "stderr",
     "output_type": "stream",
     "text": [
      "Epoch [9/10]: 100%|██████████████████████████████████████████████████████████| 63/63 [00:13<00:00,  4.84it/s, loss=2.3]\n"
     ]
    },
    {
     "name": "stdout",
     "output_type": "stream",
     "text": [
      "Epoch [9/10] - Train Loss: 2.3026, Train Acc: 8.50%, Val Loss: 2.3017, Val Acc: 10.00%\n"
     ]
    },
    {
     "name": "stderr",
     "output_type": "stream",
     "text": [
      "Epoch [10/10]: 100%|█████████████████████████████████████████████████████████| 63/63 [00:13<00:00,  4.78it/s, loss=2.3]\n"
     ]
    },
    {
     "name": "stdout",
     "output_type": "stream",
     "text": [
      "Epoch [10/10] - Train Loss: 2.3025, Train Acc: 11.50%, Val Loss: 2.3017, Val Acc: 10.00%\n",
      "Best Validation Accuracy: 10.00%\n",
      "Training with optimizer RAdam and batch size 32\n"
     ]
    },
    {
     "name": "stderr",
     "output_type": "stream",
     "text": [
      "Epoch [1/10]: 100%|██████████████████████████████████████████████████████████| 32/32 [00:10<00:00,  2.92it/s, loss=2.3]\n"
     ]
    },
    {
     "name": "stdout",
     "output_type": "stream",
     "text": [
      "Epoch [1/10] - Train Loss: 2.3025, Train Acc: 9.00%, Val Loss: 2.3025, Val Acc: 10.00%\n"
     ]
    },
    {
     "name": "stderr",
     "output_type": "stream",
     "text": [
      "Epoch [2/10]: 100%|██████████████████████████████████████████████████████████| 32/32 [00:10<00:00,  2.99it/s, loss=2.3]\n"
     ]
    },
    {
     "name": "stdout",
     "output_type": "stream",
     "text": [
      "Epoch [2/10] - Train Loss: 2.3026, Train Acc: 9.60%, Val Loss: 2.3024, Val Acc: 10.00%\n"
     ]
    },
    {
     "name": "stderr",
     "output_type": "stream",
     "text": [
      "Epoch [3/10]: 100%|██████████████████████████████████████████████████████████| 32/32 [00:10<00:00,  2.94it/s, loss=2.3]\n"
     ]
    },
    {
     "name": "stdout",
     "output_type": "stream",
     "text": [
      "Epoch [3/10] - Train Loss: 2.3025, Train Acc: 9.90%, Val Loss: 2.3025, Val Acc: 10.00%\n"
     ]
    },
    {
     "name": "stderr",
     "output_type": "stream",
     "text": [
      "Epoch [4/10]: 100%|██████████████████████████████████████████████████████████| 32/32 [00:10<00:00,  2.94it/s, loss=2.3]\n"
     ]
    },
    {
     "name": "stdout",
     "output_type": "stream",
     "text": [
      "Epoch [4/10] - Train Loss: 2.3027, Train Acc: 9.60%, Val Loss: 2.3026, Val Acc: 10.00%\n"
     ]
    },
    {
     "name": "stderr",
     "output_type": "stream",
     "text": [
      "Epoch [5/10]: 100%|█████████████████████████████████████████████████████████| 32/32 [00:10<00:00,  2.96it/s, loss=2.31]\n"
     ]
    },
    {
     "name": "stdout",
     "output_type": "stream",
     "text": [
      "Epoch [5/10] - Train Loss: 2.3028, Train Acc: 10.10%, Val Loss: 2.3025, Val Acc: 10.00%\n"
     ]
    },
    {
     "name": "stderr",
     "output_type": "stream",
     "text": [
      "Epoch [6/10]: 100%|██████████████████████████████████████████████████████████| 32/32 [00:10<00:00,  2.95it/s, loss=2.3]\n"
     ]
    },
    {
     "name": "stdout",
     "output_type": "stream",
     "text": [
      "Epoch [6/10] - Train Loss: 2.3026, Train Acc: 8.90%, Val Loss: 2.3025, Val Acc: 10.00%\n"
     ]
    },
    {
     "name": "stderr",
     "output_type": "stream",
     "text": [
      "Epoch [7/10]: 100%|█████████████████████████████████████████████████████████| 32/32 [00:10<00:00,  2.97it/s, loss=2.31]\n"
     ]
    },
    {
     "name": "stdout",
     "output_type": "stream",
     "text": [
      "Epoch [7/10] - Train Loss: 2.3027, Train Acc: 9.70%, Val Loss: 2.3025, Val Acc: 10.00%\n"
     ]
    },
    {
     "name": "stderr",
     "output_type": "stream",
     "text": [
      "Epoch [8/10]: 100%|██████████████████████████████████████████████████████████| 32/32 [00:10<00:00,  3.04it/s, loss=2.3]\n"
     ]
    },
    {
     "name": "stdout",
     "output_type": "stream",
     "text": [
      "Epoch [8/10] - Train Loss: 2.3026, Train Acc: 10.50%, Val Loss: 2.3024, Val Acc: 10.00%\n"
     ]
    },
    {
     "name": "stderr",
     "output_type": "stream",
     "text": [
      "Epoch [9/10]: 100%|██████████████████████████████████████████████████████████| 32/32 [00:10<00:00,  3.04it/s, loss=2.3]\n"
     ]
    },
    {
     "name": "stdout",
     "output_type": "stream",
     "text": [
      "Epoch [9/10] - Train Loss: 2.3025, Train Acc: 9.80%, Val Loss: 2.3025, Val Acc: 10.00%\n"
     ]
    },
    {
     "name": "stderr",
     "output_type": "stream",
     "text": [
      "Epoch [10/10]: 100%|█████████████████████████████████████████████████████████| 32/32 [00:10<00:00,  3.07it/s, loss=2.3]\n"
     ]
    },
    {
     "name": "stdout",
     "output_type": "stream",
     "text": [
      "Epoch [10/10] - Train Loss: 2.3027, Train Acc: 10.20%, Val Loss: 2.3024, Val Acc: 10.00%\n",
      "Best Validation Accuracy: 10.00%\n",
      "Training with optimizer NAdam and batch size 8\n"
     ]
    },
    {
     "name": "stderr",
     "output_type": "stream",
     "text": [
      "Epoch [1/10]: 100%|████████████████████████████████████████████████████████| 125/125 [00:17<00:00,  7.28it/s, loss=2.3]\n"
     ]
    },
    {
     "name": "stdout",
     "output_type": "stream",
     "text": [
      "Epoch [1/10] - Train Loss: 2.3039, Train Acc: 8.50%, Val Loss: 2.3028, Val Acc: 10.00%\n"
     ]
    },
    {
     "name": "stderr",
     "output_type": "stream",
     "text": [
      "Epoch [2/10]: 100%|████████████████████████████████████████████████████████| 125/125 [00:16<00:00,  7.36it/s, loss=2.3]\n"
     ]
    },
    {
     "name": "stdout",
     "output_type": "stream",
     "text": [
      "Epoch [2/10] - Train Loss: 2.3037, Train Acc: 9.50%, Val Loss: 2.3030, Val Acc: 10.00%\n"
     ]
    },
    {
     "name": "stderr",
     "output_type": "stream",
     "text": [
      "Epoch [3/10]: 100%|███████████████████████████████████████████████████████| 125/125 [00:16<00:00,  7.37it/s, loss=2.31]\n"
     ]
    },
    {
     "name": "stdout",
     "output_type": "stream",
     "text": [
      "Epoch [3/10] - Train Loss: 2.3035, Train Acc: 8.20%, Val Loss: 2.3029, Val Acc: 10.00%\n"
     ]
    },
    {
     "name": "stderr",
     "output_type": "stream",
     "text": [
      "Epoch [4/10]: 100%|███████████████████████████████████████████████████████| 125/125 [00:17<00:00,  7.30it/s, loss=2.31]\n"
     ]
    },
    {
     "name": "stdout",
     "output_type": "stream",
     "text": [
      "Epoch [4/10] - Train Loss: 2.3035, Train Acc: 8.10%, Val Loss: 2.3028, Val Acc: 10.00%\n"
     ]
    },
    {
     "name": "stderr",
     "output_type": "stream",
     "text": [
      "Epoch [5/10]: 100%|████████████████████████████████████████████████████████| 125/125 [00:17<00:00,  7.32it/s, loss=2.3]\n"
     ]
    },
    {
     "name": "stdout",
     "output_type": "stream",
     "text": [
      "Epoch [5/10] - Train Loss: 2.3036, Train Acc: 7.00%, Val Loss: 2.3028, Val Acc: 10.00%\n"
     ]
    },
    {
     "name": "stderr",
     "output_type": "stream",
     "text": [
      "Epoch [6/10]: 100%|████████████████████████████████████████████████████████| 125/125 [00:16<00:00,  7.36it/s, loss=2.3]\n"
     ]
    },
    {
     "name": "stdout",
     "output_type": "stream",
     "text": [
      "Epoch [6/10] - Train Loss: 2.3026, Train Acc: 9.80%, Val Loss: 2.3028, Val Acc: 10.00%\n"
     ]
    },
    {
     "name": "stderr",
     "output_type": "stream",
     "text": [
      "Epoch [7/10]: 100%|████████████████████████████████████████████████████████| 125/125 [00:16<00:00,  7.44it/s, loss=2.3]\n"
     ]
    },
    {
     "name": "stdout",
     "output_type": "stream",
     "text": [
      "Epoch [7/10] - Train Loss: 2.3025, Train Acc: 9.00%, Val Loss: 2.3027, Val Acc: 10.00%\n"
     ]
    },
    {
     "name": "stderr",
     "output_type": "stream",
     "text": [
      "Epoch [8/10]: 100%|████████████████████████████████████████████████████████| 125/125 [00:16<00:00,  7.36it/s, loss=2.3]\n"
     ]
    },
    {
     "name": "stdout",
     "output_type": "stream",
     "text": [
      "Epoch [8/10] - Train Loss: 2.3026, Train Acc: 9.90%, Val Loss: 2.3027, Val Acc: 10.00%\n"
     ]
    },
    {
     "name": "stderr",
     "output_type": "stream",
     "text": [
      "Epoch [9/10]: 100%|███████████████████████████████████████████████████████| 125/125 [00:17<00:00,  7.25it/s, loss=2.31]\n"
     ]
    },
    {
     "name": "stdout",
     "output_type": "stream",
     "text": [
      "Epoch [9/10] - Train Loss: 2.3027, Train Acc: 9.50%, Val Loss: 2.3027, Val Acc: 10.00%\n"
     ]
    },
    {
     "name": "stderr",
     "output_type": "stream",
     "text": [
      "Epoch [10/10]: 100%|██████████████████████████████████████████████████████| 125/125 [00:17<00:00,  7.28it/s, loss=2.31]\n"
     ]
    },
    {
     "name": "stdout",
     "output_type": "stream",
     "text": [
      "Epoch [10/10] - Train Loss: 2.3029, Train Acc: 9.80%, Val Loss: 2.3027, Val Acc: 10.00%\n",
      "Best Validation Accuracy: 10.00%\n",
      "Training with optimizer NAdam and batch size 16\n"
     ]
    },
    {
     "name": "stderr",
     "output_type": "stream",
     "text": [
      "Epoch [1/10]: 100%|██████████████████████████████████████████████████████████| 63/63 [00:12<00:00,  4.85it/s, loss=2.3]\n"
     ]
    },
    {
     "name": "stdout",
     "output_type": "stream",
     "text": [
      "Epoch [1/10] - Train Loss: 2.3030, Train Acc: 9.30%, Val Loss: 2.3035, Val Acc: 10.00%\n"
     ]
    },
    {
     "name": "stderr",
     "output_type": "stream",
     "text": [
      "Epoch [2/10]: 100%|██████████████████████████████████████████████████████████| 63/63 [00:12<00:00,  4.88it/s, loss=2.3]\n"
     ]
    },
    {
     "name": "stdout",
     "output_type": "stream",
     "text": [
      "Epoch [2/10] - Train Loss: 2.3036, Train Acc: 9.00%, Val Loss: 2.3029, Val Acc: 10.00%\n"
     ]
    },
    {
     "name": "stderr",
     "output_type": "stream",
     "text": [
      "Epoch [3/10]: 100%|██████████████████████████████████████████████████████████| 63/63 [00:12<00:00,  4.87it/s, loss=2.3]\n"
     ]
    },
    {
     "name": "stdout",
     "output_type": "stream",
     "text": [
      "Epoch [3/10] - Train Loss: 2.3033, Train Acc: 10.10%, Val Loss: 2.3029, Val Acc: 10.00%\n"
     ]
    },
    {
     "name": "stderr",
     "output_type": "stream",
     "text": [
      "Epoch [4/10]: 100%|█████████████████████████████████████████████████████████| 63/63 [00:12<00:00,  4.94it/s, loss=2.31]\n"
     ]
    },
    {
     "name": "stdout",
     "output_type": "stream",
     "text": [
      "Epoch [4/10] - Train Loss: 2.3034, Train Acc: 8.60%, Val Loss: 2.3029, Val Acc: 10.00%\n"
     ]
    },
    {
     "name": "stderr",
     "output_type": "stream",
     "text": [
      "Epoch [5/10]: 100%|██████████████████████████████████████████████████████████| 63/63 [00:12<00:00,  4.92it/s, loss=2.3]\n"
     ]
    },
    {
     "name": "stdout",
     "output_type": "stream",
     "text": [
      "Epoch [5/10] - Train Loss: 2.3032, Train Acc: 9.30%, Val Loss: 2.3025, Val Acc: 10.00%\n"
     ]
    },
    {
     "name": "stderr",
     "output_type": "stream",
     "text": [
      "Epoch [6/10]: 100%|██████████████████████████████████████████████████████████| 63/63 [00:12<00:00,  4.95it/s, loss=2.3]\n"
     ]
    },
    {
     "name": "stdout",
     "output_type": "stream",
     "text": [
      "Epoch [6/10] - Train Loss: 2.3027, Train Acc: 10.40%, Val Loss: 2.3025, Val Acc: 10.00%\n"
     ]
    },
    {
     "name": "stderr",
     "output_type": "stream",
     "text": [
      "Epoch [7/10]: 100%|██████████████████████████████████████████████████████████| 63/63 [00:12<00:00,  4.87it/s, loss=2.3]\n"
     ]
    },
    {
     "name": "stdout",
     "output_type": "stream",
     "text": [
      "Epoch [7/10] - Train Loss: 2.3028, Train Acc: 10.00%, Val Loss: 2.3024, Val Acc: 10.00%\n"
     ]
    },
    {
     "name": "stderr",
     "output_type": "stream",
     "text": [
      "Epoch [8/10]: 100%|██████████████████████████████████████████████████████████| 63/63 [00:12<00:00,  4.91it/s, loss=2.3]\n"
     ]
    },
    {
     "name": "stdout",
     "output_type": "stream",
     "text": [
      "Epoch [8/10] - Train Loss: 2.3025, Train Acc: 10.10%, Val Loss: 2.3024, Val Acc: 10.00%\n"
     ]
    },
    {
     "name": "stderr",
     "output_type": "stream",
     "text": [
      "Epoch [9/10]: 100%|██████████████████████████████████████████████████████████| 63/63 [00:12<00:00,  4.88it/s, loss=2.3]\n"
     ]
    },
    {
     "name": "stdout",
     "output_type": "stream",
     "text": [
      "Epoch [9/10] - Train Loss: 2.3028, Train Acc: 9.80%, Val Loss: 2.3024, Val Acc: 10.00%\n"
     ]
    },
    {
     "name": "stderr",
     "output_type": "stream",
     "text": [
      "Epoch [10/10]: 100%|█████████████████████████████████████████████████████████| 63/63 [00:12<00:00,  4.91it/s, loss=2.3]\n"
     ]
    },
    {
     "name": "stdout",
     "output_type": "stream",
     "text": [
      "Epoch [10/10] - Train Loss: 2.3024, Train Acc: 10.70%, Val Loss: 2.3024, Val Acc: 10.00%\n",
      "Best Validation Accuracy: 10.00%\n",
      "Training with optimizer NAdam and batch size 32\n"
     ]
    },
    {
     "name": "stderr",
     "output_type": "stream",
     "text": [
      "Epoch [1/10]: 100%|██████████████████████████████████████████████████████████| 32/32 [00:10<00:00,  2.98it/s, loss=2.3]\n"
     ]
    },
    {
     "name": "stdout",
     "output_type": "stream",
     "text": [
      "Epoch [1/10] - Train Loss: 2.3030, Train Acc: 8.80%, Val Loss: 2.3005, Val Acc: 10.00%\n"
     ]
    },
    {
     "name": "stderr",
     "output_type": "stream",
     "text": [
      "Epoch [2/10]: 100%|██████████████████████████████████████████████████████████| 32/32 [00:10<00:00,  3.03it/s, loss=2.3]\n"
     ]
    },
    {
     "name": "stdout",
     "output_type": "stream",
     "text": [
      "Epoch [2/10] - Train Loss: 2.3032, Train Acc: 8.40%, Val Loss: 2.3007, Val Acc: 10.00%\n"
     ]
    },
    {
     "name": "stderr",
     "output_type": "stream",
     "text": [
      "Epoch [3/10]: 100%|██████████████████████████████████████████████████████████| 32/32 [00:10<00:00,  3.04it/s, loss=2.3]\n"
     ]
    },
    {
     "name": "stdout",
     "output_type": "stream",
     "text": [
      "Epoch [3/10] - Train Loss: 2.3031, Train Acc: 8.60%, Val Loss: 2.3009, Val Acc: 10.00%\n"
     ]
    },
    {
     "name": "stderr",
     "output_type": "stream",
     "text": [
      "Epoch [4/10]: 100%|██████████████████████████████████████████████████████████| 32/32 [00:10<00:00,  3.02it/s, loss=2.3]\n"
     ]
    },
    {
     "name": "stdout",
     "output_type": "stream",
     "text": [
      "Epoch [4/10] - Train Loss: 2.3031, Train Acc: 9.10%, Val Loss: 2.3010, Val Acc: 10.00%\n"
     ]
    },
    {
     "name": "stderr",
     "output_type": "stream",
     "text": [
      "Epoch [5/10]: 100%|██████████████████████████████████████████████████████████| 32/32 [00:10<00:00,  2.99it/s, loss=2.3]\n"
     ]
    },
    {
     "name": "stdout",
     "output_type": "stream",
     "text": [
      "Epoch [5/10] - Train Loss: 2.3031, Train Acc: 7.80%, Val Loss: 2.3004, Val Acc: 10.00%\n"
     ]
    },
    {
     "name": "stderr",
     "output_type": "stream",
     "text": [
      "Epoch [6/10]: 100%|██████████████████████████████████████████████████████████| 32/32 [00:10<00:00,  3.05it/s, loss=2.3]\n"
     ]
    },
    {
     "name": "stdout",
     "output_type": "stream",
     "text": [
      "Epoch [6/10] - Train Loss: 2.3024, Train Acc: 9.80%, Val Loss: 2.3004, Val Acc: 10.00%\n"
     ]
    },
    {
     "name": "stderr",
     "output_type": "stream",
     "text": [
      "Epoch [7/10]: 100%|██████████████████████████████████████████████████████████| 32/32 [00:10<00:00,  2.99it/s, loss=2.3]\n"
     ]
    },
    {
     "name": "stdout",
     "output_type": "stream",
     "text": [
      "Epoch [7/10] - Train Loss: 2.3025, Train Acc: 10.20%, Val Loss: 2.3003, Val Acc: 10.00%\n"
     ]
    },
    {
     "name": "stderr",
     "output_type": "stream",
     "text": [
      "Epoch [8/10]: 100%|██████████████████████████████████████████████████████████| 32/32 [00:10<00:00,  3.02it/s, loss=2.3]\n"
     ]
    },
    {
     "name": "stdout",
     "output_type": "stream",
     "text": [
      "Epoch [8/10] - Train Loss: 2.3027, Train Acc: 10.40%, Val Loss: 2.3003, Val Acc: 10.00%\n"
     ]
    },
    {
     "name": "stderr",
     "output_type": "stream",
     "text": [
      "Epoch [9/10]: 100%|██████████████████████████████████████████████████████████| 32/32 [00:10<00:00,  3.05it/s, loss=2.3]\n"
     ]
    },
    {
     "name": "stdout",
     "output_type": "stream",
     "text": [
      "Epoch [9/10] - Train Loss: 2.3025, Train Acc: 9.50%, Val Loss: 2.3004, Val Acc: 10.00%\n"
     ]
    },
    {
     "name": "stderr",
     "output_type": "stream",
     "text": [
      "Epoch [10/10]: 100%|████████████████████████████████████████████████████████| 32/32 [00:10<00:00,  3.01it/s, loss=2.31]\n"
     ]
    },
    {
     "name": "stdout",
     "output_type": "stream",
     "text": [
      "Epoch [10/10] - Train Loss: 2.3026, Train Acc: 10.80%, Val Loss: 2.3004, Val Acc: 10.00%\n",
      "Best Validation Accuracy: 10.00%\n"
     ]
    }
   ],
   "source": [
    "# List of optimizers to be used\n",
    "optimizers_list = ['Adam', 'SGD', 'RMSprop', 'AdamW', 'Adamax', 'RAdam', 'NAdam']\n",
    "# optimizers_list = ['SparseAdam']\n",
    "\n",
    "# List of batch sizes to be used\n",
    "batch_sizes = [8, 16, 32]\n",
    "lr = 0.0001\n",
    "num_epochs = 10\n",
    "\n",
    "# Train and evaluate for different optimizers and batch sizes\n",
    "loss_dict, acc_dict = {}, {}\n",
    "\n",
    "for optimizer_name in optimizers_list:\n",
    "    for batch_size in batch_sizes:\n",
    "        print(f'Training with optimizer {optimizer_name} and batch size {batch_size}')\n",
    "        train_loader, val_loader = get_data_loaders(data_dir, batch_size)\n",
    "        train_losses, val_losses, train_accuracies, val_accuracies = train_and_evaluate(optimizer_name, lr, train_loader, val_loader)\n",
    "        key = f'{optimizer_name}_bs{batch_size}'\n",
    "        loss_dict[key] = {'train': train_losses, 'val': val_losses}\n",
    "        acc_dict[key] = {'train': train_accuracies, 'val': val_accuracies}"
   ]
  }
 ],
 "metadata": {
  "kernelspec": {
   "display_name": "Python 3 (ipykernel)",
   "language": "python",
   "name": "python3"
  },
  "language_info": {
   "codemirror_mode": {
    "name": "ipython",
    "version": 3
   },
   "file_extension": ".py",
   "mimetype": "text/x-python",
   "name": "python",
   "nbconvert_exporter": "python",
   "pygments_lexer": "ipython3",
   "version": "3.11.7"
  }
 },
 "nbformat": 4,
 "nbformat_minor": 5
}
