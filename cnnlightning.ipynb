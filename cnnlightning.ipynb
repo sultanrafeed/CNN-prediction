{
 "cells": [
  {
   "cell_type": "code",
   "execution_count": 36,
   "metadata": {},
   "outputs": [],
   "source": [
    "import os\n",
    "\n",
    "import torch\n",
    "import torch.nn as nn\n",
    "import torch.optim as optim\n",
    "from torchvision import datasets, transforms\n",
    "from torch.utils.data import DataLoader\n",
    "\n",
    "import lightning as pl\n",
    "from lightning.pytorch.callbacks.early_stopping import EarlyStopping\n",
    "from lightning.pytorch.callbacks import ModelCheckpoint\n",
    "\n",
    "import matplotlib.pyplot as plt\n",
    "import numpy as np\n",
    "import pandas as pd"
   ]
  },
  {
   "cell_type": "code",
   "execution_count": 13,
   "metadata": {},
   "outputs": [
    {
     "name": "stdout",
     "output_type": "stream",
     "text": [
      "C:\\Users\\Siam\\desktop\\465\\dataset\\train\n"
     ]
    }
   ],
   "source": [
    "root_dir = os.getcwd()\n",
    "train_dir = os.path.join(root_dir, 'dataset', 'train')\n",
    "val_dir = os.path.join(root_dir, 'dataset', 'val')\n",
    "base_model_dir = os.path.join(root_dir, 'base_model')\n",
    "base_model_path = os.path.join(base_model_dir, 'base')\n",
    "print(train_dir)"
   ]
  },
  {
   "cell_type": "code",
   "execution_count": 81,
   "metadata": {},
   "outputs": [],
   "source": [
    "def get_dataloader(img_folder, batch_size, num_workers=2):\n",
    "    \n",
    "    preprocessing_transformation = transforms.Compose([transforms.Resize((128, 128)),\n",
    "                                                       transforms.ToTensor(),\n",
    "                                                       transforms.Normalize(mean=[0.485, 0.456, 0.406], std=[0.229, 0.224, 0.225])\n",
    "                                                       ])\n",
    "    \n",
    "    dataset = datasets.ImageFolder(root=img_folder, transform=preprocessing_transformation)\n",
    "    return DataLoader(dataset, batch_size=batch_size, shuffle=True, num_workers=num_workers, persistent_workers=True)"
   ]
  },
  {
   "cell_type": "code",
   "execution_count": 53,
   "metadata": {},
   "outputs": [],
   "source": [
    "default_config = [8, 'M', 8, 'M', 16, 'M', 16, 'M', 32, 32, 'M', 64, 64, 'M']\n",
    "\n",
    "class CustomVGG(nn.Module):\n",
    "    def __init__(self, num_classes=10, config=default_config):\n",
    "        super(CustomVGG, self).__init__()\n",
    "        self.conv_layers = self.create_conv_layers(config)\n",
    "        self.fc_layers = nn.Sequential(\n",
    "            nn.Linear(64*2*2, 64),\n",
    "            nn.ReLU(),\n",
    "            nn.Dropout(p=0.25),\n",
    "            nn.Linear(64, num_classes),\n",
    "        )\n",
    "\n",
    "    def forward(self, x):\n",
    "      x = self.conv_layers(x)\n",
    "      x = x.reshape(x.shape[0], -1)\n",
    "      return self.fc_layers(x)\n",
    "\n",
    "    def create_conv_layers(self, config):\n",
    "      layers = []\n",
    "      in_channels = 3\n",
    "\n",
    "      for layer in config:\n",
    "\n",
    "          if type(layer) == int:\n",
    "            out_channels = layer\n",
    "            layers.append(nn.Conv2d(in_channels, out_channels,\n",
    "                                    kernel_size=3, stride=1, padding=1))\n",
    "            layers.append(nn.BatchNorm2d(layer))\n",
    "            layers.append(nn.ReLU())\n",
    "            in_channels = layer\n",
    "\n",
    "          else:\n",
    "            layers.append(nn.MaxPool2d(kernel_size=2, stride=2))\n",
    "\n",
    "      return nn.Sequential(*layers)"
   ]
  },
  {
   "cell_type": "code",
   "execution_count": 24,
   "metadata": {},
   "outputs": [],
   "source": [
    "def load_base_model(base_model_path):\n",
    "    model = CustomVGG()\n",
    "    model.load_state_dict(torch.load(base_model_path))\n",
    "    print(f\"Model loaded from {base_model_path}\")\n",
    "    return model"
   ]
  },
  {
   "cell_type": "code",
   "execution_count": 134,
   "metadata": {},
   "outputs": [
    {
     "name": "stdout",
     "output_type": "stream",
     "text": [
      "Model loaded from C:\\Users\\Siam\\desktop\\465\\base_model\\base\n"
     ]
    }
   ],
   "source": [
    "# use this to get the model with initial weight\n",
    "model = load_base_model(base_model_path)"
   ]
  },
  {
   "cell_type": "code",
   "execution_count": 135,
   "metadata": {},
   "outputs": [],
   "source": [
    "class vggTrainer(pl.LightningModule):\n",
    "\n",
    "    def __init__(self, model, train_dir, batch_size, optimizer):\n",
    "        super(vggTrainer, self).__init__()\n",
    "        self.model = model\n",
    "        self.optimizer = optimizer\n",
    "        self.loss_fn = nn.CrossEntropyLoss()\n",
    "        self.train_loader = get_dataloader(train_dir, batch_size, num_workers=2)\n",
    "        self.train_step_losses = []\n",
    "\n",
    "    def forward(self, x):\n",
    "        return self.model(x)\n",
    "\n",
    "    def training_step(self, batch, batch_idx):\n",
    "        x, y = batch\n",
    "        pred = self.forward(x)\n",
    "        loss = self.loss_fn(pred, y)\n",
    "        self.train_step_losses.append(loss.item())\n",
    "        return loss\n",
    "\n",
    "    def train_dataloader(self):\n",
    "        return self.train_loader\n",
    "\n",
    "    def on_train_epoch_end(self):\n",
    "      avg_loss = sum(self.train_step_losses) / len(self.train_step_losses)\n",
    "      self.log('train_loss', avg_loss, on_epoch=True, prog_bar=True)\n",
    "      self.train_step_losses.clear()\n",
    "\n",
    "    def configure_optimizers(self):\n",
    "        scheduler = torch.optim.lr_scheduler.ReduceLROnPlateau(self.optimizer, mode='min', factor=0.5, patience=5, verbose=True)\n",
    "        return {\n",
    "            'optimizer': self.optimizer,\n",
    "            'lr_scheduler': {\n",
    "                'scheduler': scheduler,\n",
    "                'interval': 'epoch',\n",
    "                'monitor': 'train_loss'\n",
    "            },\n",
    "        }"
   ]
  },
  {
   "cell_type": "code",
   "execution_count": 136,
   "metadata": {},
   "outputs": [],
   "source": [
    "early_stopping = EarlyStopping('train_loss', min_delta=0.005, patience=15)\n",
    "checkpoint_callback = ModelCheckpoint(save_top_k=1, save_last=True, monitor=\"train_loss\")"
   ]
  },
  {
   "cell_type": "code",
   "execution_count": 137,
   "metadata": {},
   "outputs": [
    {
     "name": "stderr",
     "output_type": "stream",
     "text": [
      "GPU available: True (cuda), used: True\n",
      "TPU available: False, using: 0 TPU cores\n",
      "IPU available: False, using: 0 IPUs\n",
      "HPU available: False, using: 0 HPUs\n"
     ]
    }
   ],
   "source": [
    "batch_size = 24\n",
    "\n",
    "optimizer = torch.optim.Adam(model.parameters(), lr=0.01)\n",
    "trainer = vggTrainer(model, train_dir, batch_size, optimizer)\n",
    "pl_trainer = pl.Trainer(\n",
    "    max_epochs= -1, \n",
    "    callbacks=[early_stopping, checkpoint_callback]\n",
    "    )"
   ]
  },
  {
   "cell_type": "code",
   "execution_count": 138,
   "metadata": {},
   "outputs": [
    {
     "name": "stderr",
     "output_type": "stream",
     "text": [
      "LOCAL_RANK: 0 - CUDA_VISIBLE_DEVICES: [0]\n",
      "\n",
      "  | Name    | Type             | Params\n",
      "---------------------------------------------\n",
      "0 | model   | CustomVGG        | 91.2 K\n",
      "1 | loss_fn | CrossEntropyLoss | 0     \n",
      "---------------------------------------------\n",
      "91.2 K    Trainable params\n",
      "0         Non-trainable params\n",
      "91.2 K    Total params\n",
      "0.365     Total estimated model params size (MB)\n",
      "C:\\Users\\Siam\\anaconda3\\envs\\env1.0\\Lib\\site-packages\\lightning\\pytorch\\loops\\fit_loop.py:298: The number of training batches (42) is smaller than the logging interval Trainer(log_every_n_steps=50). Set a lower value for log_every_n_steps if you want to see logs for the training epoch.\n"
     ]
    },
    {
     "data": {
      "application/vnd.jupyter.widget-view+json": {
       "model_id": "8db1d24c38254cf48ed8359f7aa488b7",
       "version_major": 2,
       "version_minor": 0
      },
      "text/plain": [
       "Training: |                                                                                      | 0/? [00:00<…"
      ]
     },
     "metadata": {},
     "output_type": "display_data"
    },
    {
     "name": "stdout",
     "output_type": "stream",
     "text": [
      "Epoch 00116: reducing learning rate of group 0 to 5.0000e-03.\n",
      "Epoch 00142: reducing learning rate of group 0 to 2.5000e-03.\n",
      "Epoch 00159: reducing learning rate of group 0 to 1.2500e-03.\n",
      "Epoch 00168: reducing learning rate of group 0 to 6.2500e-04.\n",
      "Epoch 00179: reducing learning rate of group 0 to 3.1250e-04.\n",
      "Epoch 00190: reducing learning rate of group 0 to 1.5625e-04.\n",
      "Epoch 00196: reducing learning rate of group 0 to 7.8125e-05.\n"
     ]
    }
   ],
   "source": [
    "pl_trainer.fit(trainer)"
   ]
  }
 ],
 "metadata": {
  "kernelspec": {
   "display_name": "Python 3 (ipykernel)",
   "language": "python",
   "name": "python3"
  }
 },
 "nbformat": 4,
 "nbformat_minor": 2
}
